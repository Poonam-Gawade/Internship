{
 "cells": [
  {
   "cell_type": "markdown",
   "id": "28f3f998",
   "metadata": {},
   "source": [
    "# Q.1)"
   ]
  },
  {
   "cell_type": "code",
   "execution_count": 1,
   "id": "19324baf",
   "metadata": {},
   "outputs": [
    {
     "name": "stdout",
     "output_type": "stream",
     "text": [
      "Requirement already satisfied: selenium in c:\\programdata\\anaconda3\\lib\\site-packages (4.1.3)\n",
      "Requirement already satisfied: urllib3[secure,socks]~=1.26 in c:\\programdata\\anaconda3\\lib\\site-packages (from selenium) (1.26.4)\n",
      "Requirement already satisfied: trio~=0.17 in c:\\programdata\\anaconda3\\lib\\site-packages (from selenium) (0.20.0)\n",
      "Requirement already satisfied: trio-websocket~=0.9 in c:\\programdata\\anaconda3\\lib\\site-packages (from selenium) (0.9.2)\n",
      "Requirement already satisfied: attrs>=19.2.0 in c:\\programdata\\anaconda3\\lib\\site-packages (from trio~=0.17->selenium) (20.3.0)\n",
      "Requirement already satisfied: async-generator>=1.9 in c:\\programdata\\anaconda3\\lib\\site-packages (from trio~=0.17->selenium) (1.10)\n",
      "Requirement already satisfied: cffi>=1.14 in c:\\programdata\\anaconda3\\lib\\site-packages (from trio~=0.17->selenium) (1.14.5)\n",
      "Requirement already satisfied: outcome in c:\\programdata\\anaconda3\\lib\\site-packages (from trio~=0.17->selenium) (1.1.0)\n",
      "Requirement already satisfied: sniffio in c:\\programdata\\anaconda3\\lib\\site-packages (from trio~=0.17->selenium) (1.2.0)\n",
      "Requirement already satisfied: idna in c:\\programdata\\anaconda3\\lib\\site-packages (from trio~=0.17->selenium) (2.10)\n",
      "Requirement already satisfied: sortedcontainers in c:\\programdata\\anaconda3\\lib\\site-packages (from trio~=0.17->selenium) (2.3.0)\n",
      "Requirement already satisfied: pycparser in c:\\programdata\\anaconda3\\lib\\site-packages (from cffi>=1.14->trio~=0.17->selenium) (2.20)\n",
      "Requirement already satisfied: wsproto>=0.14 in c:\\programdata\\anaconda3\\lib\\site-packages (from trio-websocket~=0.9->selenium) (1.1.0)\n",
      "Requirement already satisfied: PySocks!=1.5.7,<2.0,>=1.5.6 in c:\\programdata\\anaconda3\\lib\\site-packages (from urllib3[secure,socks]~=1.26->selenium) (1.7.1)\n",
      "Requirement already satisfied: cryptography>=1.3.4 in c:\\programdata\\anaconda3\\lib\\site-packages (from urllib3[secure,socks]~=1.26->selenium) (3.4.7)\n",
      "Requirement already satisfied: certifi in c:\\programdata\\anaconda3\\lib\\site-packages (from urllib3[secure,socks]~=1.26->selenium) (2020.12.5)\n",
      "Requirement already satisfied: pyOpenSSL>=0.14 in c:\\programdata\\anaconda3\\lib\\site-packages (from urllib3[secure,socks]~=1.26->selenium) (20.0.1)\n",
      "Requirement already satisfied: six>=1.5.2 in c:\\programdata\\anaconda3\\lib\\site-packages (from pyOpenSSL>=0.14->urllib3[secure,socks]~=1.26->selenium) (1.15.0)\n",
      "Requirement already satisfied: h11<1,>=0.9.0 in c:\\programdata\\anaconda3\\lib\\site-packages (from wsproto>=0.14->trio-websocket~=0.9->selenium) (0.13.0)\n"
     ]
    }
   ],
   "source": [
    "!pip install selenium"
   ]
  },
  {
   "cell_type": "code",
   "execution_count": 2,
   "id": "ee9e6908",
   "metadata": {},
   "outputs": [],
   "source": [
    "import selenium\n",
    "from selenium import webdriver\n",
    "import pandas as pd\n",
    "import warnings\n",
    "warnings.filterwarnings(\"ignore\")"
   ]
  },
  {
   "cell_type": "code",
   "execution_count": 22,
   "id": "b6b05a1d",
   "metadata": {},
   "outputs": [],
   "source": [
    "driver = webdriver.Firefox(executable_path=r\"C:\\geckodriver.exe\")\n",
    "#driver.implicitly_wait(2)\n",
    "#driver.maximize_window()\n",
    "driver.get('https://www.naukri.com')"
   ]
  },
  {
   "cell_type": "code",
   "execution_count": 23,
   "id": "79e7a687",
   "metadata": {},
   "outputs": [
    {
     "data": {
      "text/plain": [
       "<selenium.webdriver.remote.webelement.WebElement (session=\"e49bada2-ebb0-45b5-adbd-510277e67c32\", element=\"e0507f84-4da9-44da-8b9d-2bcb64958a07\")>"
      ]
     },
     "execution_count": 23,
     "metadata": {},
     "output_type": "execute_result"
    }
   ],
   "source": [
    "search_job=driver.find_element_by_class_name(\"suggestor-input\")\n",
    "search_job"
   ]
  },
  {
   "cell_type": "code",
   "execution_count": 24,
   "id": "67e91bcc",
   "metadata": {},
   "outputs": [],
   "source": [
    "search_job.send_keys(\"Data Analyst\")"
   ]
  },
  {
   "cell_type": "code",
   "execution_count": 25,
   "id": "38ceaa06",
   "metadata": {},
   "outputs": [
    {
     "data": {
      "text/plain": [
       "<selenium.webdriver.remote.webelement.WebElement (session=\"e49bada2-ebb0-45b5-adbd-510277e67c32\", element=\"f84dfbbd-a699-497c-8766-8eb8d831077b\")>"
      ]
     },
     "execution_count": 25,
     "metadata": {},
     "output_type": "execute_result"
    }
   ],
   "source": [
    "search_locn=driver.find_element_by_xpath(\"/html/body/div/div[2]/div[3]/div/div/div[3]/div/div/div/input\")\n",
    "search_locn"
   ]
  },
  {
   "cell_type": "code",
   "execution_count": 26,
   "id": "5528ddb8",
   "metadata": {},
   "outputs": [],
   "source": [
    "search_locn.send_keys(\"Bangalore\")"
   ]
  },
  {
   "cell_type": "code",
   "execution_count": 27,
   "id": "806c9efb",
   "metadata": {},
   "outputs": [
    {
     "data": {
      "text/plain": [
       "<selenium.webdriver.remote.webelement.WebElement (session=\"e49bada2-ebb0-45b5-adbd-510277e67c32\", element=\"abb7c3c4-a17d-47db-b8d8-ad2bd8e4a7f0\")>"
      ]
     },
     "execution_count": 27,
     "metadata": {},
     "output_type": "execute_result"
    }
   ],
   "source": [
    "search_btn=driver.find_element_by_xpath(\"/html/body/div/div[2]/div[3]/div/div/div[6]\")\n",
    "search_btn"
   ]
  },
  {
   "cell_type": "code",
   "execution_count": 28,
   "id": "443c9f53",
   "metadata": {},
   "outputs": [],
   "source": [
    "search_btn.click()"
   ]
  },
  {
   "cell_type": "code",
   "execution_count": 29,
   "id": "60f1720d",
   "metadata": {},
   "outputs": [
    {
     "data": {
      "text/plain": [
       "[<selenium.webdriver.remote.webelement.WebElement (session=\"e49bada2-ebb0-45b5-adbd-510277e67c32\", element=\"cab3a729-ecf5-4204-a4d2-56f80f41d951\")>,\n",
       " <selenium.webdriver.remote.webelement.WebElement (session=\"e49bada2-ebb0-45b5-adbd-510277e67c32\", element=\"0f8350c7-63da-4448-b991-184cd6909b36\")>,\n",
       " <selenium.webdriver.remote.webelement.WebElement (session=\"e49bada2-ebb0-45b5-adbd-510277e67c32\", element=\"1ba6fc03-61ec-40ea-9ca3-604415b180d5\")>,\n",
       " <selenium.webdriver.remote.webelement.WebElement (session=\"e49bada2-ebb0-45b5-adbd-510277e67c32\", element=\"6b646d8e-51df-431b-a3c6-5a7da439a708\")>,\n",
       " <selenium.webdriver.remote.webelement.WebElement (session=\"e49bada2-ebb0-45b5-adbd-510277e67c32\", element=\"d7708cb5-268e-407d-b25a-a696e268e085\")>,\n",
       " <selenium.webdriver.remote.webelement.WebElement (session=\"e49bada2-ebb0-45b5-adbd-510277e67c32\", element=\"712822b3-48bb-49b6-8cb1-fb10e9f474c7\")>,\n",
       " <selenium.webdriver.remote.webelement.WebElement (session=\"e49bada2-ebb0-45b5-adbd-510277e67c32\", element=\"4f27fd4c-a7d7-4c86-98ff-5bc1b29973e5\")>,\n",
       " <selenium.webdriver.remote.webelement.WebElement (session=\"e49bada2-ebb0-45b5-adbd-510277e67c32\", element=\"250af3c7-ab33-4f8f-b93f-4a09453160bb\")>,\n",
       " <selenium.webdriver.remote.webelement.WebElement (session=\"e49bada2-ebb0-45b5-adbd-510277e67c32\", element=\"19eef99e-1142-4921-bc75-e86a8de95530\")>,\n",
       " <selenium.webdriver.remote.webelement.WebElement (session=\"e49bada2-ebb0-45b5-adbd-510277e67c32\", element=\"2a6b9d4a-db1c-4542-9685-6a413429bb61\")>]"
      ]
     },
     "execution_count": 29,
     "metadata": {},
     "output_type": "execute_result"
    }
   ],
   "source": [
    "title_tag=driver.find_elements_by_xpath('//a[@class=\"title fw500 ellipsis\"]')\n",
    "title_tag[0:10]"
   ]
  },
  {
   "cell_type": "code",
   "execution_count": 30,
   "id": "0ac3d9c9",
   "metadata": {},
   "outputs": [
    {
     "data": {
      "text/plain": [
       "['Hiring For Data Analyst I(SQL & Python)',\n",
       " 'Data Analyst - 3rd Party Payroll',\n",
       " 'Data Analyst I',\n",
       " 'Senior Data Analyst II',\n",
       " 'Senior Data Analyst',\n",
       " 'Senior Data Analyst II',\n",
       " 'Senior Data Analyst II',\n",
       " 'Looking For Data Analyst - Remote Support',\n",
       " 'Job openings For Data Analyst - AOA',\n",
       " 'Senior Data Analyst - Ads & Promotion Platform (APP)']"
      ]
     },
     "execution_count": 30,
     "metadata": {},
     "output_type": "execute_result"
    }
   ],
   "source": [
    "title=[]\n",
    "for i in title_tag:\n",
    "    title.append(i.text)\n",
    "title=title[0:10]\n",
    "title"
   ]
  },
  {
   "cell_type": "code",
   "execution_count": 31,
   "id": "1aefbe03",
   "metadata": {},
   "outputs": [
    {
     "data": {
      "text/plain": [
       "[<selenium.webdriver.remote.webelement.WebElement (session=\"e49bada2-ebb0-45b5-adbd-510277e67c32\", element=\"1c66839a-bc97-48e7-82e3-519d1d9f91f8\")>,\n",
       " <selenium.webdriver.remote.webelement.WebElement (session=\"e49bada2-ebb0-45b5-adbd-510277e67c32\", element=\"d3df1744-a842-491e-96af-4be804cb4c25\")>,\n",
       " <selenium.webdriver.remote.webelement.WebElement (session=\"e49bada2-ebb0-45b5-adbd-510277e67c32\", element=\"3036b580-233b-424b-9cdb-bf9cde9e8c1f\")>,\n",
       " <selenium.webdriver.remote.webelement.WebElement (session=\"e49bada2-ebb0-45b5-adbd-510277e67c32\", element=\"edba474f-61b5-473a-9418-e08123d48996\")>,\n",
       " <selenium.webdriver.remote.webelement.WebElement (session=\"e49bada2-ebb0-45b5-adbd-510277e67c32\", element=\"657aab76-dddb-4186-bd25-199789da1563\")>,\n",
       " <selenium.webdriver.remote.webelement.WebElement (session=\"e49bada2-ebb0-45b5-adbd-510277e67c32\", element=\"924d9369-65c5-4b12-b076-c319820a50a9\")>,\n",
       " <selenium.webdriver.remote.webelement.WebElement (session=\"e49bada2-ebb0-45b5-adbd-510277e67c32\", element=\"50684612-e73b-4c43-bd76-f99390862008\")>,\n",
       " <selenium.webdriver.remote.webelement.WebElement (session=\"e49bada2-ebb0-45b5-adbd-510277e67c32\", element=\"c9a248d6-6ade-4d2c-a9be-206c9eb1e0f3\")>,\n",
       " <selenium.webdriver.remote.webelement.WebElement (session=\"e49bada2-ebb0-45b5-adbd-510277e67c32\", element=\"450aeac6-3a8e-4fce-9403-6532176c83b4\")>,\n",
       " <selenium.webdriver.remote.webelement.WebElement (session=\"e49bada2-ebb0-45b5-adbd-510277e67c32\", element=\"f196f105-ffed-4deb-a236-56c526a533f7\")>]"
      ]
     },
     "execution_count": 31,
     "metadata": {},
     "output_type": "execute_result"
    }
   ],
   "source": [
    "company_tag=driver.find_elements_by_xpath('//a[@class=\"subTitle ellipsis fleft\"]')\n",
    "company_tag[0:10]"
   ]
  },
  {
   "cell_type": "code",
   "execution_count": 32,
   "id": "f8fb9ac2",
   "metadata": {},
   "outputs": [
    {
     "data": {
      "text/plain": [
       "['Clario India Pvt Ltd',\n",
       " 'Flipkart',\n",
       " 'Cerner',\n",
       " 'Flipkart',\n",
       " 'Flipkart',\n",
       " 'Flipkart',\n",
       " 'Flipkart',\n",
       " 'Locuz Enterprise Solutions Ltd',\n",
       " 'izmo ltd',\n",
       " 'Gojek']"
      ]
     },
     "execution_count": 32,
     "metadata": {},
     "output_type": "execute_result"
    }
   ],
   "source": [
    "company_name=[]\n",
    "\n",
    "for i in company_tag:\n",
    "    company_name.append(i.text)\n",
    "company=company_name[0:10]\n",
    "company"
   ]
  },
  {
   "cell_type": "code",
   "execution_count": 33,
   "id": "ac74c97b",
   "metadata": {},
   "outputs": [
    {
     "data": {
      "text/plain": [
       "[<selenium.webdriver.remote.webelement.WebElement (session=\"e49bada2-ebb0-45b5-adbd-510277e67c32\", element=\"233b9404-0140-43a3-93ef-7040d653debb\")>,\n",
       " <selenium.webdriver.remote.webelement.WebElement (session=\"e49bada2-ebb0-45b5-adbd-510277e67c32\", element=\"b1ae2ce3-b21c-4260-a9b8-b1de3b6e10bf\")>,\n",
       " <selenium.webdriver.remote.webelement.WebElement (session=\"e49bada2-ebb0-45b5-adbd-510277e67c32\", element=\"c2e3d866-ec7b-4202-8dcd-baf946cda9b9\")>,\n",
       " <selenium.webdriver.remote.webelement.WebElement (session=\"e49bada2-ebb0-45b5-adbd-510277e67c32\", element=\"b2aa863d-3e7a-447a-975f-b61e892122f5\")>,\n",
       " <selenium.webdriver.remote.webelement.WebElement (session=\"e49bada2-ebb0-45b5-adbd-510277e67c32\", element=\"37f83fd1-9255-4bc0-84c3-5bcdb6ffccb0\")>,\n",
       " <selenium.webdriver.remote.webelement.WebElement (session=\"e49bada2-ebb0-45b5-adbd-510277e67c32\", element=\"ef15f674-b30b-42a6-a025-09ecc7f0cb31\")>,\n",
       " <selenium.webdriver.remote.webelement.WebElement (session=\"e49bada2-ebb0-45b5-adbd-510277e67c32\", element=\"e5450095-89c2-4127-8dea-3d66df266a8d\")>,\n",
       " <selenium.webdriver.remote.webelement.WebElement (session=\"e49bada2-ebb0-45b5-adbd-510277e67c32\", element=\"d6fdaee6-3c7e-48e3-a180-a7edd5a0c9d3\")>,\n",
       " <selenium.webdriver.remote.webelement.WebElement (session=\"e49bada2-ebb0-45b5-adbd-510277e67c32\", element=\"dabaa221-2b55-4d3f-b5be-b9dde31a7e42\")>,\n",
       " <selenium.webdriver.remote.webelement.WebElement (session=\"e49bada2-ebb0-45b5-adbd-510277e67c32\", element=\"8bb5a8be-d026-4af0-b219-71f596a0eb34\")>]"
      ]
     },
     "execution_count": 33,
     "metadata": {},
     "output_type": "execute_result"
    }
   ],
   "source": [
    "exp_tag=driver.find_elements_by_xpath('//li[@class=\"fleft grey-text br2 placeHolderLi experience\"]/span')\n",
    "exp_tag[0:10]"
   ]
  },
  {
   "cell_type": "code",
   "execution_count": 34,
   "id": "61669a79",
   "metadata": {},
   "outputs": [
    {
     "data": {
      "text/plain": [
       "['0-2 Yrs',\n",
       " '2-4 Yrs',\n",
       " '5-10 Yrs',\n",
       " '3-6 Yrs',\n",
       " '3-8 Yrs',\n",
       " '2-4 Yrs',\n",
       " '2-4 Yrs',\n",
       " '5-10 Yrs',\n",
       " '2-3 Yrs',\n",
       " '3-8 Yrs']"
      ]
     },
     "execution_count": 34,
     "metadata": {},
     "output_type": "execute_result"
    }
   ],
   "source": [
    "exp=[]\n",
    "\n",
    "for i in exp_tag:\n",
    "    exp.append(i.text)\n",
    "exp=exp[0:10]\n",
    "exp"
   ]
  },
  {
   "cell_type": "code",
   "execution_count": 35,
   "id": "72bcaf43",
   "metadata": {},
   "outputs": [
    {
     "data": {
      "text/plain": [
       "[<selenium.webdriver.remote.webelement.WebElement (session=\"e49bada2-ebb0-45b5-adbd-510277e67c32\", element=\"b08f3640-911f-42f6-aa60-f79bf20e906c\")>,\n",
       " <selenium.webdriver.remote.webelement.WebElement (session=\"e49bada2-ebb0-45b5-adbd-510277e67c32\", element=\"0f8f606d-fa77-4ff0-beb9-08437495fe4a\")>,\n",
       " <selenium.webdriver.remote.webelement.WebElement (session=\"e49bada2-ebb0-45b5-adbd-510277e67c32\", element=\"d63b66c8-4efd-443e-b60c-24946db0332f\")>,\n",
       " <selenium.webdriver.remote.webelement.WebElement (session=\"e49bada2-ebb0-45b5-adbd-510277e67c32\", element=\"5463e18e-6b2b-4d78-8670-9682150b7770\")>,\n",
       " <selenium.webdriver.remote.webelement.WebElement (session=\"e49bada2-ebb0-45b5-adbd-510277e67c32\", element=\"bdabad9a-7135-470e-b4e9-30cd1999ec0f\")>,\n",
       " <selenium.webdriver.remote.webelement.WebElement (session=\"e49bada2-ebb0-45b5-adbd-510277e67c32\", element=\"dcdb3f4d-e399-4504-ba78-3b6c125df598\")>,\n",
       " <selenium.webdriver.remote.webelement.WebElement (session=\"e49bada2-ebb0-45b5-adbd-510277e67c32\", element=\"e1c52572-e883-4814-a852-443051e010ec\")>,\n",
       " <selenium.webdriver.remote.webelement.WebElement (session=\"e49bada2-ebb0-45b5-adbd-510277e67c32\", element=\"c2b7e429-3d7a-4ab8-9548-de366bb577e6\")>,\n",
       " <selenium.webdriver.remote.webelement.WebElement (session=\"e49bada2-ebb0-45b5-adbd-510277e67c32\", element=\"124909de-a7ec-48fd-bdf6-d05c63203c18\")>,\n",
       " <selenium.webdriver.remote.webelement.WebElement (session=\"e49bada2-ebb0-45b5-adbd-510277e67c32\", element=\"394e55f2-3429-46b7-96c3-20ea92f2bdaa\")>]"
      ]
     },
     "execution_count": 35,
     "metadata": {},
     "output_type": "execute_result"
    }
   ],
   "source": [
    "loc_tag=driver.find_elements_by_xpath('//li[@class=\"fleft grey-text br2 placeHolderLi location\"]/span')\n",
    "loc_tag[0:10]"
   ]
  },
  {
   "cell_type": "code",
   "execution_count": 36,
   "id": "63102b2e",
   "metadata": {},
   "outputs": [
    {
     "data": {
      "text/plain": [
       "['Bangalore/Bengaluru',\n",
       " 'Bangalore/Bengaluru',\n",
       " 'Bangalore/Bengaluru',\n",
       " 'Bangalore/Bengaluru',\n",
       " 'Bangalore/Bengaluru',\n",
       " 'Bangalore/Bengaluru',\n",
       " 'Bangalore/Bengaluru',\n",
       " 'Hyderabad/Secunderabad, Chennai, Bangalore/Bengaluru',\n",
       " 'Bangalore/Bengaluru(4th Phase JP Nagar)',\n",
       " 'Bangalore/Bengaluru']"
      ]
     },
     "execution_count": 36,
     "metadata": {},
     "output_type": "execute_result"
    }
   ],
   "source": [
    "loc=[]\n",
    "for i in loc_tag:\n",
    "    loc.append(i.text)\n",
    "loc=loc[0:10]\n",
    "loc"
   ]
  },
  {
   "cell_type": "code",
   "execution_count": 37,
   "id": "1007a11d",
   "metadata": {},
   "outputs": [
    {
     "name": "stdout",
     "output_type": "stream",
     "text": [
      "10 10 10 10\n"
     ]
    }
   ],
   "source": [
    "print(len(title),len(company),len(exp),len(loc))"
   ]
  },
  {
   "cell_type": "code",
   "execution_count": 38,
   "id": "9fb7a7b0",
   "metadata": {},
   "outputs": [
    {
     "data": {
      "text/html": [
       "<div>\n",
       "<style scoped>\n",
       "    .dataframe tbody tr th:only-of-type {\n",
       "        vertical-align: middle;\n",
       "    }\n",
       "\n",
       "    .dataframe tbody tr th {\n",
       "        vertical-align: top;\n",
       "    }\n",
       "\n",
       "    .dataframe thead th {\n",
       "        text-align: right;\n",
       "    }\n",
       "</style>\n",
       "<table border=\"1\" class=\"dataframe\">\n",
       "  <thead>\n",
       "    <tr style=\"text-align: right;\">\n",
       "      <th></th>\n",
       "      <th>Title</th>\n",
       "      <th>Comapny</th>\n",
       "      <th>Experience</th>\n",
       "      <th>Location</th>\n",
       "    </tr>\n",
       "  </thead>\n",
       "  <tbody>\n",
       "    <tr>\n",
       "      <th>0</th>\n",
       "      <td>Hiring For Data Analyst I(SQL &amp; Python)</td>\n",
       "      <td>Clario India Pvt Ltd</td>\n",
       "      <td>0-2 Yrs</td>\n",
       "      <td>Bangalore/Bengaluru</td>\n",
       "    </tr>\n",
       "    <tr>\n",
       "      <th>1</th>\n",
       "      <td>Data Analyst - 3rd Party Payroll</td>\n",
       "      <td>Flipkart</td>\n",
       "      <td>2-4 Yrs</td>\n",
       "      <td>Bangalore/Bengaluru</td>\n",
       "    </tr>\n",
       "    <tr>\n",
       "      <th>2</th>\n",
       "      <td>Data Analyst I</td>\n",
       "      <td>Cerner</td>\n",
       "      <td>5-10 Yrs</td>\n",
       "      <td>Bangalore/Bengaluru</td>\n",
       "    </tr>\n",
       "    <tr>\n",
       "      <th>3</th>\n",
       "      <td>Senior Data Analyst II</td>\n",
       "      <td>Flipkart</td>\n",
       "      <td>3-6 Yrs</td>\n",
       "      <td>Bangalore/Bengaluru</td>\n",
       "    </tr>\n",
       "    <tr>\n",
       "      <th>4</th>\n",
       "      <td>Senior Data Analyst</td>\n",
       "      <td>Flipkart</td>\n",
       "      <td>3-8 Yrs</td>\n",
       "      <td>Bangalore/Bengaluru</td>\n",
       "    </tr>\n",
       "    <tr>\n",
       "      <th>5</th>\n",
       "      <td>Senior Data Analyst II</td>\n",
       "      <td>Flipkart</td>\n",
       "      <td>2-4 Yrs</td>\n",
       "      <td>Bangalore/Bengaluru</td>\n",
       "    </tr>\n",
       "    <tr>\n",
       "      <th>6</th>\n",
       "      <td>Senior Data Analyst II</td>\n",
       "      <td>Flipkart</td>\n",
       "      <td>2-4 Yrs</td>\n",
       "      <td>Bangalore/Bengaluru</td>\n",
       "    </tr>\n",
       "    <tr>\n",
       "      <th>7</th>\n",
       "      <td>Looking For Data Analyst - Remote Support</td>\n",
       "      <td>Locuz Enterprise Solutions Ltd</td>\n",
       "      <td>5-10 Yrs</td>\n",
       "      <td>Hyderabad/Secunderabad, Chennai, Bangalore/Ben...</td>\n",
       "    </tr>\n",
       "    <tr>\n",
       "      <th>8</th>\n",
       "      <td>Job openings For Data Analyst - AOA</td>\n",
       "      <td>izmo ltd</td>\n",
       "      <td>2-3 Yrs</td>\n",
       "      <td>Bangalore/Bengaluru(4th Phase JP Nagar)</td>\n",
       "    </tr>\n",
       "    <tr>\n",
       "      <th>9</th>\n",
       "      <td>Senior Data Analyst - Ads &amp; Promotion Platform...</td>\n",
       "      <td>Gojek</td>\n",
       "      <td>3-8 Yrs</td>\n",
       "      <td>Bangalore/Bengaluru</td>\n",
       "    </tr>\n",
       "  </tbody>\n",
       "</table>\n",
       "</div>"
      ],
      "text/plain": [
       "                                               Title  \\\n",
       "0            Hiring For Data Analyst I(SQL & Python)   \n",
       "1                   Data Analyst - 3rd Party Payroll   \n",
       "2                                     Data Analyst I   \n",
       "3                             Senior Data Analyst II   \n",
       "4                                Senior Data Analyst   \n",
       "5                             Senior Data Analyst II   \n",
       "6                             Senior Data Analyst II   \n",
       "7          Looking For Data Analyst - Remote Support   \n",
       "8                Job openings For Data Analyst - AOA   \n",
       "9  Senior Data Analyst - Ads & Promotion Platform...   \n",
       "\n",
       "                          Comapny Experience  \\\n",
       "0            Clario India Pvt Ltd    0-2 Yrs   \n",
       "1                        Flipkart    2-4 Yrs   \n",
       "2                          Cerner   5-10 Yrs   \n",
       "3                        Flipkart    3-6 Yrs   \n",
       "4                        Flipkart    3-8 Yrs   \n",
       "5                        Flipkart    2-4 Yrs   \n",
       "6                        Flipkart    2-4 Yrs   \n",
       "7  Locuz Enterprise Solutions Ltd   5-10 Yrs   \n",
       "8                        izmo ltd    2-3 Yrs   \n",
       "9                           Gojek    3-8 Yrs   \n",
       "\n",
       "                                            Location  \n",
       "0                                Bangalore/Bengaluru  \n",
       "1                                Bangalore/Bengaluru  \n",
       "2                                Bangalore/Bengaluru  \n",
       "3                                Bangalore/Bengaluru  \n",
       "4                                Bangalore/Bengaluru  \n",
       "5                                Bangalore/Bengaluru  \n",
       "6                                Bangalore/Bengaluru  \n",
       "7  Hyderabad/Secunderabad, Chennai, Bangalore/Ben...  \n",
       "8            Bangalore/Bengaluru(4th Phase JP Nagar)  \n",
       "9                                Bangalore/Bengaluru  "
      ]
     },
     "execution_count": 38,
     "metadata": {},
     "output_type": "execute_result"
    }
   ],
   "source": [
    "jobs1=pd.DataFrame()\n",
    "jobs1[\"Title\"]=title\n",
    "jobs1[\"Comapny\"]=company\n",
    "jobs1[\"Experience\"]=exp\n",
    "jobs1[\"Location\"]=loc\n",
    "jobs1"
   ]
  },
  {
   "cell_type": "markdown",
   "id": "2043fd29",
   "metadata": {},
   "source": [
    "# Q.2)"
   ]
  },
  {
   "cell_type": "code",
   "execution_count": 39,
   "id": "50a71b91",
   "metadata": {},
   "outputs": [],
   "source": [
    "driver = webdriver.Firefox(executable_path=r\"C:\\geckodriver.exe\")\n",
    "#driver.implicitly_wait(2)\n",
    "#driver.maximize_window()\n",
    "driver.get('https://www.naukri.com')"
   ]
  },
  {
   "cell_type": "code",
   "execution_count": 41,
   "id": "e65be513",
   "metadata": {},
   "outputs": [
    {
     "data": {
      "text/plain": [
       "<selenium.webdriver.remote.webelement.WebElement (session=\"43e7cb78-51bc-40bf-8c4c-ea28adb2e9dc\", element=\"e369be04-be98-493e-a34d-e2791279e0d5\")>"
      ]
     },
     "execution_count": 41,
     "metadata": {},
     "output_type": "execute_result"
    }
   ],
   "source": [
    "searchjob=driver.find_element_by_class_name(\"suggestor-input\")\n",
    "searchjob"
   ]
  },
  {
   "cell_type": "code",
   "execution_count": 42,
   "id": "2a7789c0",
   "metadata": {},
   "outputs": [],
   "source": [
    "searchjob.send_keys(\"Data Scientist\")"
   ]
  },
  {
   "cell_type": "code",
   "execution_count": 43,
   "id": "d882f842",
   "metadata": {},
   "outputs": [
    {
     "data": {
      "text/plain": [
       "<selenium.webdriver.remote.webelement.WebElement (session=\"43e7cb78-51bc-40bf-8c4c-ea28adb2e9dc\", element=\"f2246be7-209c-4b5e-a86f-70db979b981c\")>"
      ]
     },
     "execution_count": 43,
     "metadata": {},
     "output_type": "execute_result"
    }
   ],
   "source": [
    "searchlocn=driver.find_element_by_xpath(\"/html/body/div/div[2]/div[3]/div/div/div[3]/div/div/div/input\")\n",
    "searchlocn"
   ]
  },
  {
   "cell_type": "code",
   "execution_count": 44,
   "id": "74b4f9cc",
   "metadata": {},
   "outputs": [],
   "source": [
    "searchlocn.send_keys(\"Bangalore\")"
   ]
  },
  {
   "cell_type": "code",
   "execution_count": 45,
   "id": "5cac35e2",
   "metadata": {},
   "outputs": [
    {
     "data": {
      "text/plain": [
       "<selenium.webdriver.remote.webelement.WebElement (session=\"43e7cb78-51bc-40bf-8c4c-ea28adb2e9dc\", element=\"4d65163b-bfcc-475a-ad18-c781cae9f693\")>"
      ]
     },
     "execution_count": 45,
     "metadata": {},
     "output_type": "execute_result"
    }
   ],
   "source": [
    "search_btn=driver.find_element_by_xpath(\"/html/body/div/div[2]/div[3]/div/div/div[6]\")\n",
    "search_btn"
   ]
  },
  {
   "cell_type": "code",
   "execution_count": 46,
   "id": "e10a811e",
   "metadata": {},
   "outputs": [],
   "source": [
    "search_btn.click()"
   ]
  },
  {
   "cell_type": "code",
   "execution_count": 47,
   "id": "991915b2",
   "metadata": {},
   "outputs": [
    {
     "data": {
      "text/plain": [
       "['Data Scientist III',\n",
       " 'Sr Data Scientist',\n",
       " 'Data Scientist/Senior Data Scientist - Python',\n",
       " 'HCL Tech Opening - Lead Data Scientist',\n",
       " 'Sr . Data Scientist',\n",
       " 'Need Data scientists and data engineers - WFH- less than 30days notice',\n",
       " 'Sr. Data Scientist - Manufacturing Projects - German MNC',\n",
       " 'Principal Data Scientist',\n",
       " 'Data Scientist',\n",
       " 'Data Scientist']"
      ]
     },
     "execution_count": 47,
     "metadata": {},
     "output_type": "execute_result"
    }
   ],
   "source": [
    "title_tag=driver.find_elements_by_xpath('//a[@class=\"title fw500 ellipsis\"]')\n",
    "title_tag[0:10]\n",
    "\n",
    "title=[]\n",
    "for i in title_tag:\n",
    "    title.append(i.text)\n",
    "title=title[0:10]\n",
    "title\n",
    "    "
   ]
  },
  {
   "cell_type": "code",
   "execution_count": 48,
   "id": "b348e628",
   "metadata": {},
   "outputs": [
    {
     "data": {
      "text/plain": [
       "['Groupon',\n",
       " 'Uber',\n",
       " 'ApicalGo Consultancy',\n",
       " 'HCL',\n",
       " 'Visa',\n",
       " 'Covalense Technologies Private Limited',\n",
       " 'EVOLVE TECHNOLOGIES AND SERVICES PRIVATE LIMITED',\n",
       " 'Mobile Premier League',\n",
       " 'Shell',\n",
       " 'HDFC Bank']"
      ]
     },
     "execution_count": 48,
     "metadata": {},
     "output_type": "execute_result"
    }
   ],
   "source": [
    "company_tag=driver.find_elements_by_xpath('//a[@class=\"subTitle ellipsis fleft\"]')\n",
    "company_tag[0:10]\n",
    "\n",
    "company=[]\n",
    "for i in company_tag:\n",
    "    company.append(i.text)\n",
    "company=company[0:10]\n",
    "company\n",
    "    "
   ]
  },
  {
   "cell_type": "code",
   "execution_count": 49,
   "id": "e4374d99",
   "metadata": {},
   "outputs": [
    {
     "data": {
      "text/plain": [
       "['Bangalore/Bengaluru',\n",
       " 'Bangalore/Bengaluru',\n",
       " 'Bangalore/Bengaluru',\n",
       " 'Kolkata, Hyderabad/Secunderabad, Pune, Chennai, Bangalore/Bengaluru, Delhi / NCR',\n",
       " 'Bangalore/Bengaluru',\n",
       " 'Hyderabad/Secunderabad, Bangalore/Bengaluru, Mumbai (All Areas)\\n(WFH during Covid)',\n",
       " 'Pune, Bangalore/Bengaluru',\n",
       " 'Bangalore/Bengaluru',\n",
       " 'Bangalore/Bengaluru',\n",
       " 'Pune, Gurgaon/Gurugram, Chennai, Bangalore/Bengaluru, Delhi / NCR, Mumbai (All Areas)']"
      ]
     },
     "execution_count": 49,
     "metadata": {},
     "output_type": "execute_result"
    }
   ],
   "source": [
    "loc_tag=driver.find_elements_by_xpath('//li[@class=\"fleft grey-text br2 placeHolderLi location\"]')\n",
    "loc_tag[0:10]\n",
    "\n",
    "loc=[]\n",
    "for i in loc_tag:\n",
    "    loc.append(i.text)\n",
    "loc=loc[0:10]\n",
    "loc\n",
    "    "
   ]
  },
  {
   "cell_type": "code",
   "execution_count": 50,
   "id": "ef0797c7",
   "metadata": {},
   "outputs": [
    {
     "name": "stdout",
     "output_type": "stream",
     "text": [
      "10 10 10\n"
     ]
    }
   ],
   "source": [
    "print(len(title),len(company),len(loc))"
   ]
  },
  {
   "cell_type": "code",
   "execution_count": 51,
   "id": "692ccb34",
   "metadata": {},
   "outputs": [
    {
     "data": {
      "text/html": [
       "<div>\n",
       "<style scoped>\n",
       "    .dataframe tbody tr th:only-of-type {\n",
       "        vertical-align: middle;\n",
       "    }\n",
       "\n",
       "    .dataframe tbody tr th {\n",
       "        vertical-align: top;\n",
       "    }\n",
       "\n",
       "    .dataframe thead th {\n",
       "        text-align: right;\n",
       "    }\n",
       "</style>\n",
       "<table border=\"1\" class=\"dataframe\">\n",
       "  <thead>\n",
       "    <tr style=\"text-align: right;\">\n",
       "      <th></th>\n",
       "      <th>Title</th>\n",
       "      <th>Company</th>\n",
       "      <th>Location</th>\n",
       "    </tr>\n",
       "  </thead>\n",
       "  <tbody>\n",
       "    <tr>\n",
       "      <th>0</th>\n",
       "      <td>Data Scientist III</td>\n",
       "      <td>Groupon</td>\n",
       "      <td>Bangalore/Bengaluru</td>\n",
       "    </tr>\n",
       "    <tr>\n",
       "      <th>1</th>\n",
       "      <td>Sr Data Scientist</td>\n",
       "      <td>Uber</td>\n",
       "      <td>Bangalore/Bengaluru</td>\n",
       "    </tr>\n",
       "    <tr>\n",
       "      <th>2</th>\n",
       "      <td>Data Scientist/Senior Data Scientist - Python</td>\n",
       "      <td>ApicalGo Consultancy</td>\n",
       "      <td>Bangalore/Bengaluru</td>\n",
       "    </tr>\n",
       "    <tr>\n",
       "      <th>3</th>\n",
       "      <td>HCL Tech Opening - Lead Data Scientist</td>\n",
       "      <td>HCL</td>\n",
       "      <td>Kolkata, Hyderabad/Secunderabad, Pune, Chennai...</td>\n",
       "    </tr>\n",
       "    <tr>\n",
       "      <th>4</th>\n",
       "      <td>Sr . Data Scientist</td>\n",
       "      <td>Visa</td>\n",
       "      <td>Bangalore/Bengaluru</td>\n",
       "    </tr>\n",
       "    <tr>\n",
       "      <th>5</th>\n",
       "      <td>Need Data scientists and data engineers - WFH-...</td>\n",
       "      <td>Covalense Technologies Private Limited</td>\n",
       "      <td>Hyderabad/Secunderabad, Bangalore/Bengaluru, M...</td>\n",
       "    </tr>\n",
       "    <tr>\n",
       "      <th>6</th>\n",
       "      <td>Sr. Data Scientist - Manufacturing Projects - ...</td>\n",
       "      <td>EVOLVE TECHNOLOGIES AND SERVICES PRIVATE LIMITED</td>\n",
       "      <td>Pune, Bangalore/Bengaluru</td>\n",
       "    </tr>\n",
       "    <tr>\n",
       "      <th>7</th>\n",
       "      <td>Principal Data Scientist</td>\n",
       "      <td>Mobile Premier League</td>\n",
       "      <td>Bangalore/Bengaluru</td>\n",
       "    </tr>\n",
       "    <tr>\n",
       "      <th>8</th>\n",
       "      <td>Data Scientist</td>\n",
       "      <td>Shell</td>\n",
       "      <td>Bangalore/Bengaluru</td>\n",
       "    </tr>\n",
       "    <tr>\n",
       "      <th>9</th>\n",
       "      <td>Data Scientist</td>\n",
       "      <td>HDFC Bank</td>\n",
       "      <td>Pune, Gurgaon/Gurugram, Chennai, Bangalore/Ben...</td>\n",
       "    </tr>\n",
       "  </tbody>\n",
       "</table>\n",
       "</div>"
      ],
      "text/plain": [
       "                                               Title  \\\n",
       "0                                 Data Scientist III   \n",
       "1                                  Sr Data Scientist   \n",
       "2      Data Scientist/Senior Data Scientist - Python   \n",
       "3             HCL Tech Opening - Lead Data Scientist   \n",
       "4                                Sr . Data Scientist   \n",
       "5  Need Data scientists and data engineers - WFH-...   \n",
       "6  Sr. Data Scientist - Manufacturing Projects - ...   \n",
       "7                           Principal Data Scientist   \n",
       "8                                     Data Scientist   \n",
       "9                                     Data Scientist   \n",
       "\n",
       "                                            Company  \\\n",
       "0                                           Groupon   \n",
       "1                                              Uber   \n",
       "2                              ApicalGo Consultancy   \n",
       "3                                               HCL   \n",
       "4                                              Visa   \n",
       "5            Covalense Technologies Private Limited   \n",
       "6  EVOLVE TECHNOLOGIES AND SERVICES PRIVATE LIMITED   \n",
       "7                             Mobile Premier League   \n",
       "8                                             Shell   \n",
       "9                                         HDFC Bank   \n",
       "\n",
       "                                            Location  \n",
       "0                                Bangalore/Bengaluru  \n",
       "1                                Bangalore/Bengaluru  \n",
       "2                                Bangalore/Bengaluru  \n",
       "3  Kolkata, Hyderabad/Secunderabad, Pune, Chennai...  \n",
       "4                                Bangalore/Bengaluru  \n",
       "5  Hyderabad/Secunderabad, Bangalore/Bengaluru, M...  \n",
       "6                          Pune, Bangalore/Bengaluru  \n",
       "7                                Bangalore/Bengaluru  \n",
       "8                                Bangalore/Bengaluru  \n",
       "9  Pune, Gurgaon/Gurugram, Chennai, Bangalore/Ben...  "
      ]
     },
     "execution_count": 51,
     "metadata": {},
     "output_type": "execute_result"
    }
   ],
   "source": [
    "jobs2=pd.DataFrame()\n",
    "jobs2[\"Title\"]=title\n",
    "jobs2[\"Company\"]=company\n",
    "jobs2[\"Location\"]=loc\n",
    "jobs2"
   ]
  },
  {
   "cell_type": "markdown",
   "id": "f86916de",
   "metadata": {},
   "source": [
    "# Q.3)"
   ]
  },
  {
   "cell_type": "code",
   "execution_count": 52,
   "id": "a32295a1",
   "metadata": {},
   "outputs": [],
   "source": [
    "driver = webdriver.Firefox(executable_path=r\"C:\\geckodriver.exe\")\n",
    "#driver.implicitly_wait(2)\n",
    "#driver.maximize_window()\n",
    "driver.get('https://www.naukri.com')"
   ]
  },
  {
   "cell_type": "code",
   "execution_count": 53,
   "id": "23f2f0e6",
   "metadata": {},
   "outputs": [
    {
     "data": {
      "text/plain": [
       "<selenium.webdriver.remote.webelement.WebElement (session=\"f91a03a9-de66-476a-9296-540c01cb3339\", element=\"9ffb1450-3c78-488b-a429-8cb8679e9ce4\")>"
      ]
     },
     "execution_count": 53,
     "metadata": {},
     "output_type": "execute_result"
    }
   ],
   "source": [
    "search_job=driver.find_element_by_class_name(\"suggestor-input\")\n",
    "search_job"
   ]
  },
  {
   "cell_type": "code",
   "execution_count": 54,
   "id": "16506459",
   "metadata": {},
   "outputs": [],
   "source": [
    "search_job.send_keys(\"Data Scientist\")"
   ]
  },
  {
   "cell_type": "code",
   "execution_count": 55,
   "id": "f9101f91",
   "metadata": {},
   "outputs": [
    {
     "data": {
      "text/plain": [
       "<selenium.webdriver.remote.webelement.WebElement (session=\"f91a03a9-de66-476a-9296-540c01cb3339\", element=\"1be22523-6838-4232-8ab2-c72df1a64c0f\")>"
      ]
     },
     "execution_count": 55,
     "metadata": {},
     "output_type": "execute_result"
    }
   ],
   "source": [
    "search_btn=driver.find_element_by_xpath(\"/html/body/div/div[2]/div[3]/div/div/div[6]\")\n",
    "search_btn"
   ]
  },
  {
   "cell_type": "code",
   "execution_count": 56,
   "id": "a62fc70c",
   "metadata": {},
   "outputs": [],
   "source": [
    "search_btn.click()"
   ]
  },
  {
   "cell_type": "code",
   "execution_count": 59,
   "id": "2d17c7a0",
   "metadata": {},
   "outputs": [
    {
     "data": {
      "text/plain": [
       "<selenium.webdriver.remote.webelement.WebElement (session=\"f91a03a9-de66-476a-9296-540c01cb3339\", element=\"0b9bb081-f5fd-4f3d-ac0b-614afef02a3a\")>"
      ]
     },
     "execution_count": 59,
     "metadata": {},
     "output_type": "execute_result"
    }
   ],
   "source": [
    "loc_check=driver.find_element_by_xpath(\"/html/body/div[1]/div[3]/div[2]/section[1]/div[2]/div[3]/div[2]/div[3]/label/p\")\n",
    "loc_check"
   ]
  },
  {
   "cell_type": "code",
   "execution_count": 60,
   "id": "8dd7e7a0",
   "metadata": {},
   "outputs": [],
   "source": [
    "loc_check.click()"
   ]
  },
  {
   "cell_type": "code",
   "execution_count": 61,
   "id": "489990a9",
   "metadata": {},
   "outputs": [
    {
     "data": {
      "text/plain": [
       "['HCL Tech Opening - Lead Data Scientist',\n",
       " 'Data Scientist',\n",
       " 'Excellent Opportunity For Freshers For AI/ML, Data Scientist, BI, QA',\n",
       " 'Hiring For Senior Data Scientist || Noida/Hyderabad',\n",
       " 'Forecasting Analyst/ Data Scientist (US Client)',\n",
       " 'Data Scientist/ Analyst Specialist',\n",
       " 'Data Scientist',\n",
       " 'Virtusa Hiring DATA Scientist- PAN India',\n",
       " 'Data Analyst / Data Scientist / Business Analytics / Fresher - MNC',\n",
       " 'Data Scientist - Machine Learning']"
      ]
     },
     "execution_count": 61,
     "metadata": {},
     "output_type": "execute_result"
    }
   ],
   "source": [
    "title_tag=driver.find_elements_by_xpath('//a[@class=\"title fw500 ellipsis\"]')\n",
    "title_tag[0:10]\n",
    "\n",
    "title=[]\n",
    "for i in title_tag:\n",
    "    title.append(i.text)\n",
    "title=title[0:10]\n",
    "title\n",
    "    "
   ]
  },
  {
   "cell_type": "code",
   "execution_count": 62,
   "id": "32c1c58d",
   "metadata": {},
   "outputs": [
    {
     "data": {
      "text/plain": [
       "['HCL',\n",
       " 'HDFC Bank',\n",
       " 'NTT Data',\n",
       " 'Tokopedia',\n",
       " 'Concentrix',\n",
       " 'TransOrg Solutions Services (P) Ltd.',\n",
       " 'Korea Trade Center',\n",
       " 'Virtusa',\n",
       " 'GABA Consultancy services',\n",
       " 'Corner Tree Consulting']"
      ]
     },
     "execution_count": 62,
     "metadata": {},
     "output_type": "execute_result"
    }
   ],
   "source": [
    "company_tag=driver.find_elements_by_xpath('//a[@class=\"subTitle ellipsis fleft\"]')\n",
    "company_tag[0:10]\n",
    "\n",
    "company=[]\n",
    "for i in company_tag:\n",
    "    company.append(i.text)\n",
    "company=company[0:10]\n",
    "company\n",
    "    "
   ]
  },
  {
   "cell_type": "code",
   "execution_count": 63,
   "id": "ca958e80",
   "metadata": {},
   "outputs": [
    {
     "data": {
      "text/plain": [
       "['10-20 Yrs',\n",
       " '1-6 Yrs',\n",
       " '0-0 Yrs',\n",
       " '2-4 Yrs',\n",
       " '3-8 Yrs',\n",
       " '1-4 Yrs',\n",
       " '3-4 Yrs',\n",
       " '5-9 Yrs',\n",
       " '0-0 Yrs',\n",
       " '6-10 Yrs']"
      ]
     },
     "execution_count": 63,
     "metadata": {},
     "output_type": "execute_result"
    }
   ],
   "source": [
    "exp_tag=driver.find_elements_by_xpath('//li[@class=\"fleft grey-text br2 placeHolderLi experience\"]')\n",
    "exp_tag[0:10]\n",
    "\n",
    "exp=[]\n",
    "for i in exp_tag:\n",
    "    exp.append(i.text)\n",
    "exp=exp[0:10]\n",
    "exp"
   ]
  },
  {
   "cell_type": "code",
   "execution_count": 64,
   "id": "e1b0f2a1",
   "metadata": {},
   "outputs": [
    {
     "name": "stdout",
     "output_type": "stream",
     "text": [
      "10 10 10 10\n"
     ]
    }
   ],
   "source": [
    "print(len(title),len(company),len(exp),len(loc))"
   ]
  },
  {
   "cell_type": "code",
   "execution_count": 65,
   "id": "c5269d4b",
   "metadata": {},
   "outputs": [
    {
     "data": {
      "text/html": [
       "<div>\n",
       "<style scoped>\n",
       "    .dataframe tbody tr th:only-of-type {\n",
       "        vertical-align: middle;\n",
       "    }\n",
       "\n",
       "    .dataframe tbody tr th {\n",
       "        vertical-align: top;\n",
       "    }\n",
       "\n",
       "    .dataframe thead th {\n",
       "        text-align: right;\n",
       "    }\n",
       "</style>\n",
       "<table border=\"1\" class=\"dataframe\">\n",
       "  <thead>\n",
       "    <tr style=\"text-align: right;\">\n",
       "      <th></th>\n",
       "      <th>Title</th>\n",
       "      <th>Company</th>\n",
       "      <th>Experience</th>\n",
       "      <th>Location</th>\n",
       "    </tr>\n",
       "  </thead>\n",
       "  <tbody>\n",
       "    <tr>\n",
       "      <th>0</th>\n",
       "      <td>HCL Tech Opening - Lead Data Scientist</td>\n",
       "      <td>HCL</td>\n",
       "      <td>10-20 Yrs</td>\n",
       "      <td>Bangalore/Bengaluru</td>\n",
       "    </tr>\n",
       "    <tr>\n",
       "      <th>1</th>\n",
       "      <td>Data Scientist</td>\n",
       "      <td>HDFC Bank</td>\n",
       "      <td>1-6 Yrs</td>\n",
       "      <td>Bangalore/Bengaluru</td>\n",
       "    </tr>\n",
       "    <tr>\n",
       "      <th>2</th>\n",
       "      <td>Excellent Opportunity For Freshers For AI/ML, ...</td>\n",
       "      <td>NTT Data</td>\n",
       "      <td>0-0 Yrs</td>\n",
       "      <td>Bangalore/Bengaluru</td>\n",
       "    </tr>\n",
       "    <tr>\n",
       "      <th>3</th>\n",
       "      <td>Hiring For Senior Data Scientist || Noida/Hyde...</td>\n",
       "      <td>Tokopedia</td>\n",
       "      <td>2-4 Yrs</td>\n",
       "      <td>Kolkata, Hyderabad/Secunderabad, Pune, Chennai...</td>\n",
       "    </tr>\n",
       "    <tr>\n",
       "      <th>4</th>\n",
       "      <td>Forecasting Analyst/ Data Scientist (US Client)</td>\n",
       "      <td>Concentrix</td>\n",
       "      <td>3-8 Yrs</td>\n",
       "      <td>Bangalore/Bengaluru</td>\n",
       "    </tr>\n",
       "    <tr>\n",
       "      <th>5</th>\n",
       "      <td>Data Scientist/ Analyst Specialist</td>\n",
       "      <td>TransOrg Solutions Services (P) Ltd.</td>\n",
       "      <td>1-4 Yrs</td>\n",
       "      <td>Hyderabad/Secunderabad, Bangalore/Bengaluru, M...</td>\n",
       "    </tr>\n",
       "    <tr>\n",
       "      <th>6</th>\n",
       "      <td>Data Scientist</td>\n",
       "      <td>Korea Trade Center</td>\n",
       "      <td>3-4 Yrs</td>\n",
       "      <td>Pune, Bangalore/Bengaluru</td>\n",
       "    </tr>\n",
       "    <tr>\n",
       "      <th>7</th>\n",
       "      <td>Virtusa Hiring DATA Scientist- PAN India</td>\n",
       "      <td>Virtusa</td>\n",
       "      <td>5-9 Yrs</td>\n",
       "      <td>Bangalore/Bengaluru</td>\n",
       "    </tr>\n",
       "    <tr>\n",
       "      <th>8</th>\n",
       "      <td>Data Analyst / Data Scientist / Business Analy...</td>\n",
       "      <td>GABA Consultancy services</td>\n",
       "      <td>0-0 Yrs</td>\n",
       "      <td>Bangalore/Bengaluru</td>\n",
       "    </tr>\n",
       "    <tr>\n",
       "      <th>9</th>\n",
       "      <td>Data Scientist - Machine Learning</td>\n",
       "      <td>Corner Tree Consulting</td>\n",
       "      <td>6-10 Yrs</td>\n",
       "      <td>Pune, Gurgaon/Gurugram, Chennai, Bangalore/Ben...</td>\n",
       "    </tr>\n",
       "  </tbody>\n",
       "</table>\n",
       "</div>"
      ],
      "text/plain": [
       "                                               Title  \\\n",
       "0             HCL Tech Opening - Lead Data Scientist   \n",
       "1                                     Data Scientist   \n",
       "2  Excellent Opportunity For Freshers For AI/ML, ...   \n",
       "3  Hiring For Senior Data Scientist || Noida/Hyde...   \n",
       "4    Forecasting Analyst/ Data Scientist (US Client)   \n",
       "5                 Data Scientist/ Analyst Specialist   \n",
       "6                                     Data Scientist   \n",
       "7           Virtusa Hiring DATA Scientist- PAN India   \n",
       "8  Data Analyst / Data Scientist / Business Analy...   \n",
       "9                  Data Scientist - Machine Learning   \n",
       "\n",
       "                                Company Experience  \\\n",
       "0                                   HCL  10-20 Yrs   \n",
       "1                             HDFC Bank    1-6 Yrs   \n",
       "2                              NTT Data    0-0 Yrs   \n",
       "3                             Tokopedia    2-4 Yrs   \n",
       "4                            Concentrix    3-8 Yrs   \n",
       "5  TransOrg Solutions Services (P) Ltd.    1-4 Yrs   \n",
       "6                    Korea Trade Center    3-4 Yrs   \n",
       "7                               Virtusa    5-9 Yrs   \n",
       "8             GABA Consultancy services    0-0 Yrs   \n",
       "9                Corner Tree Consulting   6-10 Yrs   \n",
       "\n",
       "                                            Location  \n",
       "0                                Bangalore/Bengaluru  \n",
       "1                                Bangalore/Bengaluru  \n",
       "2                                Bangalore/Bengaluru  \n",
       "3  Kolkata, Hyderabad/Secunderabad, Pune, Chennai...  \n",
       "4                                Bangalore/Bengaluru  \n",
       "5  Hyderabad/Secunderabad, Bangalore/Bengaluru, M...  \n",
       "6                          Pune, Bangalore/Bengaluru  \n",
       "7                                Bangalore/Bengaluru  \n",
       "8                                Bangalore/Bengaluru  \n",
       "9  Pune, Gurgaon/Gurugram, Chennai, Bangalore/Ben...  "
      ]
     },
     "execution_count": 65,
     "metadata": {},
     "output_type": "execute_result"
    }
   ],
   "source": [
    "job3=pd.DataFrame()\n",
    "job3[\"Title\"]=title\n",
    "job3[\"Company\"]=company\n",
    "job3[\"Experience\"]=exp\n",
    "job3[\"Location\"]=loc\n",
    "job3"
   ]
  },
  {
   "cell_type": "markdown",
   "id": "0be5191a",
   "metadata": {},
   "source": [
    "# Q.4)"
   ]
  },
  {
   "cell_type": "code",
   "execution_count": 66,
   "id": "d9e12502",
   "metadata": {},
   "outputs": [],
   "source": [
    "driver = webdriver.Firefox(executable_path=r\"C:\\geckodriver.exe\")\n",
    "driver.implicitly_wait(2)\n",
    "driver.maximize_window()\n",
    "driver.get('https://www.flipkart.com')"
   ]
  },
  {
   "cell_type": "code",
   "execution_count": 67,
   "id": "07d33546",
   "metadata": {},
   "outputs": [
    {
     "data": {
      "text/plain": [
       "<selenium.webdriver.remote.webelement.WebElement (session=\"3adaa18d-17c6-4704-b4bb-ae852b6d1296\", element=\"4094e35a-c346-4684-89f3-fd29a937ff1b\")>"
      ]
     },
     "execution_count": 67,
     "metadata": {},
     "output_type": "execute_result"
    }
   ],
   "source": [
    "search=driver.find_element_by_class_name(\"_3704LK\")\n",
    "search"
   ]
  },
  {
   "cell_type": "code",
   "execution_count": 68,
   "id": "ba6c35c2",
   "metadata": {},
   "outputs": [],
   "source": [
    "search.send_keys(\"sunglasses\")"
   ]
  },
  {
   "cell_type": "code",
   "execution_count": 69,
   "id": "cb17fd92",
   "metadata": {
    "scrolled": true
   },
   "outputs": [
    {
     "data": {
      "text/plain": [
       "<selenium.webdriver.remote.webelement.WebElement (session=\"3adaa18d-17c6-4704-b4bb-ae852b6d1296\", element=\"d05803e4-3a56-486f-9cdd-86c2b2b73655\")>"
      ]
     },
     "execution_count": 69,
     "metadata": {},
     "output_type": "execute_result"
    }
   ],
   "source": [
    "search_btn=driver.find_element_by_xpath(\"/html/body/div[1]/div/div[1]/div[1]/div[2]/div[2]/form/div/button\")\n",
    "search_btn"
   ]
  },
  {
   "cell_type": "code",
   "execution_count": 71,
   "id": "bcb07779",
   "metadata": {},
   "outputs": [],
   "source": [
    "search_btn.click()"
   ]
  },
  {
   "cell_type": "code",
   "execution_count": 73,
   "id": "abf618be",
   "metadata": {},
   "outputs": [
    {
     "data": {
      "text/plain": [
       "['VINCENT CHASE',\n",
       " 'VINCENT CHASE',\n",
       " 'SRPM',\n",
       " 'SUNBEE',\n",
       " 'Elligator',\n",
       " 'ROZZETTA CRAFT',\n",
       " 'DEIXELS',\n",
       " 'VINCENT CHASE',\n",
       " 'PIRASO',\n",
       " 'Fastrack',\n",
       " 'New Specs',\n",
       " 'VINCENT CHASE',\n",
       " 'PIRASO',\n",
       " 'SHAAH COLLECTIONS',\n",
       " 'GANSTA',\n",
       " 'VINCENT CHASE',\n",
       " 'Lee Topper',\n",
       " 'Lee Topper',\n",
       " 'kingsunglasses',\n",
       " 'VINCENT CHASE',\n",
       " 'PHENOMENAL',\n",
       " 'PIRASO',\n",
       " 'ROYAL SON',\n",
       " 'LOUIS KOUROS',\n",
       " 'PIRASO',\n",
       " 'Silver Kartz',\n",
       " 'PIRASO',\n",
       " 'LOUIS KOUROS',\n",
       " 'SUNBEE',\n",
       " 'kingsunglasses',\n",
       " 'kingsunglasses',\n",
       " 'VINCENT CHASE',\n",
       " 'Elligator',\n",
       " 'kingsunglasses',\n",
       " 'ROYAL SON',\n",
       " 'VINCENT CHASE',\n",
       " 'GANSTA',\n",
       " 'Fastrack',\n",
       " 'PIRASO',\n",
       " 'POLICE',\n",
       " 'VINCENT CHASE',\n",
       " 'VINCENT CHASE',\n",
       " 'SRPM',\n",
       " 'SUNBEE',\n",
       " 'Elligator',\n",
       " 'ROZZETTA CRAFT',\n",
       " 'DEIXELS',\n",
       " 'VINCENT CHASE',\n",
       " 'PIRASO',\n",
       " 'Fastrack',\n",
       " 'New Specs',\n",
       " 'VINCENT CHASE',\n",
       " 'PIRASO',\n",
       " 'SHAAH COLLECTIONS',\n",
       " 'GANSTA',\n",
       " 'VINCENT CHASE',\n",
       " 'Lee Topper',\n",
       " 'Lee Topper',\n",
       " 'kingsunglasses',\n",
       " 'VINCENT CHASE',\n",
       " 'PHENOMENAL',\n",
       " 'PIRASO',\n",
       " 'ROYAL SON',\n",
       " 'LOUIS KOUROS',\n",
       " 'PIRASO',\n",
       " 'Silver Kartz',\n",
       " 'PIRASO',\n",
       " 'LOUIS KOUROS',\n",
       " 'SUNBEE',\n",
       " 'kingsunglasses',\n",
       " 'kingsunglasses',\n",
       " 'VINCENT CHASE',\n",
       " 'Elligator',\n",
       " 'kingsunglasses',\n",
       " 'ROYAL SON',\n",
       " 'VINCENT CHASE',\n",
       " 'GANSTA',\n",
       " 'Fastrack',\n",
       " 'PIRASO',\n",
       " 'POLICE',\n",
       " 'VINCENT CHASE',\n",
       " 'VINCENT CHASE',\n",
       " 'SRPM',\n",
       " 'SUNBEE',\n",
       " 'Elligator',\n",
       " 'ROZZETTA CRAFT',\n",
       " 'DEIXELS',\n",
       " 'VINCENT CHASE',\n",
       " 'PIRASO',\n",
       " 'Fastrack',\n",
       " 'New Specs',\n",
       " 'VINCENT CHASE',\n",
       " 'PIRASO',\n",
       " 'SHAAH COLLECTIONS',\n",
       " 'GANSTA',\n",
       " 'VINCENT CHASE',\n",
       " 'Lee Topper',\n",
       " 'Lee Topper',\n",
       " 'kingsunglasses',\n",
       " 'VINCENT CHASE']"
      ]
     },
     "execution_count": 73,
     "metadata": {},
     "output_type": "execute_result"
    }
   ],
   "source": [
    "product=[]\n",
    "for i in range(0,3):\n",
    "    product_tag=driver.find_elements_by_xpath('//div[@class=\"_2WkVRV\"]')\n",
    "    product_tag[0:100]\n",
    "    for i in product_tag:\n",
    "        product.append(i.text)\n",
    "        next_btn=driver.find_element_by_xpath(\"/html/body/div[1]/div/div[3]/div[1]/div[2]/div[12]/div/div/nav/a[11]\")\n",
    "        next_btn\n",
    "product=product[0:100]\n",
    "product\n",
    "    "
   ]
  },
  {
   "cell_type": "code",
   "execution_count": 74,
   "id": "a8dde2bf",
   "metadata": {},
   "outputs": [
    {
     "data": {
      "text/plain": [
       "['by Lenskart Polarized, UV Protection Round Sunglasses (...',\n",
       " 'UV Protection Wayfarer Sunglasses (55)',\n",
       " 'UV Protection Wayfarer Sunglasses (50)',\n",
       " 'UV Protection, Polarized Wayfarer Sunglasses (Free Size...',\n",
       " 'UV Protection Round Sunglasses (54)',\n",
       " 'Polarized, Night Vision, Riding Glasses Sports, Wrap-ar...',\n",
       " 'UV Protection Aviator, Wayfarer Sunglasses (Free Size)',\n",
       " 'UV Protection Wayfarer Sunglasses (55)',\n",
       " 'UV Protection Aviator Sunglasses (54)',\n",
       " 'UV Protection Rectangular Sunglasses (Free Size)',\n",
       " 'UV Protection Rectangular Sunglasses (Free Size)',\n",
       " 'UV Protection Wayfarer Sunglasses (59)',\n",
       " 'UV Protection Aviator Sunglasses (54)',\n",
       " 'UV Protection, Polarized, Mirrored Rectangular Sunglass...',\n",
       " 'UV Protection, Riding Glasses Wayfarer Sunglasses (53)',\n",
       " 'by Lenskart Polarized, UV Protection Round Sunglasses (...',\n",
       " 'Riding Glasses Wrap-around Sunglasses (Free Size)',\n",
       " 'UV Protection Rectangular Sunglasses (Free Size)',\n",
       " 'Mirrored, UV Protection Wayfarer Sunglasses (Free Size)',\n",
       " 'by Lenskart Polarized, UV Protection Wayfarer Sunglasse...',\n",
       " 'UV Protection Retro Square Sunglasses (53)',\n",
       " 'UV Protection Aviator Sunglasses (54)',\n",
       " 'Mirrored Aviator Sunglasses (55)',\n",
       " 'UV Protection Aviator Sunglasses (60)',\n",
       " 'UV Protection Butterfly Sunglasses (65)',\n",
       " 'UV Protection Wayfarer Sunglasses (Free Size)',\n",
       " 'UV Protection Aviator Sunglasses (58)',\n",
       " 'UV Protection Aviator Sunglasses (60)',\n",
       " 'UV Protection, Polarized, Mirrored Round Sunglasses (Fr...',\n",
       " 'UV Protection Round Sunglasses (Free Size)',\n",
       " 'UV Protection, Riding Glasses, Mirrored Wayfarer Sungla...',\n",
       " 'by Lenskart Polarized, UV Protection Cat-eye Sunglasses...',\n",
       " 'UV Protection Round Sunglasses (53)',\n",
       " 'UV Protection Round Sunglasses (54)',\n",
       " 'Mirrored Aviator Sunglasses (Free Size)',\n",
       " 'UV Protection Wayfarer Sunglasses (59)',\n",
       " 'UV Protection Aviator Sunglasses (57)',\n",
       " 'UV Protection Wayfarer Sunglasses (Free Size)',\n",
       " 'UV Protection Wayfarer Sunglasses (32)',\n",
       " 'Gradient Oval Sunglasses (52)',\n",
       " 'by Lenskart Polarized, UV Protection Round Sunglasses (...',\n",
       " 'UV Protection Wayfarer Sunglasses (55)',\n",
       " 'UV Protection Wayfarer Sunglasses (50)',\n",
       " 'UV Protection, Polarized Wayfarer Sunglasses (Free Size...',\n",
       " 'UV Protection Round Sunglasses (54)',\n",
       " 'Polarized, Night Vision, Riding Glasses Sports, Wrap-ar...',\n",
       " 'UV Protection Aviator, Wayfarer Sunglasses (Free Size)',\n",
       " 'UV Protection Wayfarer Sunglasses (55)',\n",
       " 'UV Protection Aviator Sunglasses (54)',\n",
       " 'UV Protection Rectangular Sunglasses (Free Size)',\n",
       " 'UV Protection Rectangular Sunglasses (Free Size)',\n",
       " 'UV Protection Wayfarer Sunglasses (59)',\n",
       " 'UV Protection Aviator Sunglasses (54)',\n",
       " 'UV Protection, Polarized, Mirrored Rectangular Sunglass...',\n",
       " 'UV Protection, Riding Glasses Wayfarer Sunglasses (53)',\n",
       " 'by Lenskart Polarized, UV Protection Round Sunglasses (...',\n",
       " 'Riding Glasses Wrap-around Sunglasses (Free Size)',\n",
       " 'UV Protection Rectangular Sunglasses (Free Size)',\n",
       " 'Mirrored, UV Protection Wayfarer Sunglasses (Free Size)',\n",
       " 'by Lenskart Polarized, UV Protection Wayfarer Sunglasse...',\n",
       " 'UV Protection Retro Square Sunglasses (53)',\n",
       " 'UV Protection Aviator Sunglasses (54)',\n",
       " 'Mirrored Aviator Sunglasses (55)',\n",
       " 'UV Protection Aviator Sunglasses (60)',\n",
       " 'UV Protection Butterfly Sunglasses (65)',\n",
       " 'UV Protection Wayfarer Sunglasses (Free Size)',\n",
       " 'UV Protection Aviator Sunglasses (58)',\n",
       " 'UV Protection Aviator Sunglasses (60)',\n",
       " 'UV Protection, Polarized, Mirrored Round Sunglasses (Fr...',\n",
       " 'UV Protection Round Sunglasses (Free Size)',\n",
       " 'UV Protection, Riding Glasses, Mirrored Wayfarer Sungla...',\n",
       " 'by Lenskart Polarized, UV Protection Cat-eye Sunglasses...',\n",
       " 'UV Protection Round Sunglasses (53)',\n",
       " 'UV Protection Round Sunglasses (54)',\n",
       " 'Mirrored Aviator Sunglasses (Free Size)',\n",
       " 'UV Protection Wayfarer Sunglasses (59)',\n",
       " 'UV Protection Aviator Sunglasses (57)',\n",
       " 'UV Protection Wayfarer Sunglasses (Free Size)',\n",
       " 'UV Protection Wayfarer Sunglasses (32)',\n",
       " 'Gradient Oval Sunglasses (52)',\n",
       " 'by Lenskart Polarized, UV Protection Round Sunglasses (...',\n",
       " 'UV Protection Wayfarer Sunglasses (55)',\n",
       " 'UV Protection Wayfarer Sunglasses (50)',\n",
       " 'UV Protection, Polarized Wayfarer Sunglasses (Free Size...',\n",
       " 'UV Protection Round Sunglasses (54)',\n",
       " 'Polarized, Night Vision, Riding Glasses Sports, Wrap-ar...',\n",
       " 'UV Protection Aviator, Wayfarer Sunglasses (Free Size)',\n",
       " 'UV Protection Wayfarer Sunglasses (55)',\n",
       " 'UV Protection Aviator Sunglasses (54)',\n",
       " 'UV Protection Rectangular Sunglasses (Free Size)',\n",
       " 'UV Protection Rectangular Sunglasses (Free Size)',\n",
       " 'UV Protection Wayfarer Sunglasses (59)',\n",
       " 'UV Protection Aviator Sunglasses (54)',\n",
       " 'UV Protection, Polarized, Mirrored Rectangular Sunglass...',\n",
       " 'UV Protection, Riding Glasses Wayfarer Sunglasses (53)',\n",
       " 'by Lenskart Polarized, UV Protection Round Sunglasses (...',\n",
       " 'Riding Glasses Wrap-around Sunglasses (Free Size)',\n",
       " 'UV Protection Rectangular Sunglasses (Free Size)',\n",
       " 'Mirrored, UV Protection Wayfarer Sunglasses (Free Size)',\n",
       " 'by Lenskart Polarized, UV Protection Wayfarer Sunglasse...']"
      ]
     },
     "execution_count": 74,
     "metadata": {},
     "output_type": "execute_result"
    }
   ],
   "source": [
    "description=[]\n",
    "for i in range(0,3):\n",
    "    description_tag=driver.find_elements_by_xpath('//a[@class=\"IRpwTa\"]')\n",
    "    description_tag[0:100]\n",
    "    for i in description_tag:\n",
    "        description.append(i.text)\n",
    "        next_btn=driver.find_element_by_xpath(\"/html/body/div[1]/div/div[3]/div[1]/div[2]/div[12]/div/div/nav/a[11]\")\n",
    "        next_btn\n",
    "description=description[0:100]\n",
    "description"
   ]
  },
  {
   "cell_type": "code",
   "execution_count": 75,
   "id": "720b6a53",
   "metadata": {},
   "outputs": [
    {
     "data": {
      "text/plain": [
       "['₹1,344',\n",
       " '₹759',\n",
       " '₹198',\n",
       " '₹253',\n",
       " '₹258',\n",
       " '₹474',\n",
       " '₹202',\n",
       " '₹799',\n",
       " '₹229',\n",
       " '₹679',\n",
       " '₹232',\n",
       " '₹799',\n",
       " '₹225',\n",
       " '₹165',\n",
       " '₹198',\n",
       " '₹799',\n",
       " '₹275',\n",
       " '₹199',\n",
       " '₹239',\n",
       " '₹799',\n",
       " '₹289',\n",
       " '₹225',\n",
       " '₹379',\n",
       " '₹1,349',\n",
       " '₹375',\n",
       " '₹246',\n",
       " '₹349',\n",
       " '₹1,349',\n",
       " '₹284',\n",
       " '₹289',\n",
       " '₹184',\n",
       " '₹999',\n",
       " '₹189',\n",
       " '₹186',\n",
       " '₹379',\n",
       " '₹799',\n",
       " '₹284',\n",
       " '₹639',\n",
       " '₹225',\n",
       " '₹3,048',\n",
       " '₹1,344',\n",
       " '₹759',\n",
       " '₹198',\n",
       " '₹253',\n",
       " '₹258',\n",
       " '₹474',\n",
       " '₹202',\n",
       " '₹799',\n",
       " '₹229',\n",
       " '₹679',\n",
       " '₹232',\n",
       " '₹799',\n",
       " '₹225',\n",
       " '₹165',\n",
       " '₹198',\n",
       " '₹799',\n",
       " '₹275',\n",
       " '₹199',\n",
       " '₹239',\n",
       " '₹799',\n",
       " '₹289',\n",
       " '₹225',\n",
       " '₹379',\n",
       " '₹1,349',\n",
       " '₹375',\n",
       " '₹246',\n",
       " '₹349',\n",
       " '₹1,349',\n",
       " '₹284',\n",
       " '₹289',\n",
       " '₹184',\n",
       " '₹999',\n",
       " '₹189',\n",
       " '₹186',\n",
       " '₹379',\n",
       " '₹799',\n",
       " '₹284',\n",
       " '₹639',\n",
       " '₹225',\n",
       " '₹3,048',\n",
       " '₹1,344',\n",
       " '₹759',\n",
       " '₹198',\n",
       " '₹253',\n",
       " '₹258',\n",
       " '₹474',\n",
       " '₹202',\n",
       " '₹799',\n",
       " '₹229',\n",
       " '₹679',\n",
       " '₹232',\n",
       " '₹799',\n",
       " '₹225',\n",
       " '₹165',\n",
       " '₹198',\n",
       " '₹799',\n",
       " '₹275',\n",
       " '₹199',\n",
       " '₹239',\n",
       " '₹799']"
      ]
     },
     "execution_count": 75,
     "metadata": {},
     "output_type": "execute_result"
    }
   ],
   "source": [
    "price=[]\n",
    "for i in range(0,3):\n",
    "    price_tag=driver.find_elements_by_xpath('//div[@class=\"_30jeq3\"]')\n",
    "    price_tag[0:100]\n",
    "    for i in price_tag:\n",
    "        price.append(i.text)\n",
    "        next_btn=driver.find_element_by_xpath(\"/html/body/div[1]/div/div[3]/div[1]/div[2]/div[12]/div/div/nav/a[11]\")\n",
    "        next_btn\n",
    "price=price[0:100]\n",
    "price\n",
    "\n",
    "  \n",
    "\n",
    "\n",
    "    "
   ]
  },
  {
   "cell_type": "code",
   "execution_count": 76,
   "id": "79537773",
   "metadata": {},
   "outputs": [
    {
     "name": "stdout",
     "output_type": "stream",
     "text": [
      "100 100 100\n"
     ]
    }
   ],
   "source": [
    "print(len(product),len(description),len(price))"
   ]
  },
  {
   "cell_type": "code",
   "execution_count": 77,
   "id": "0e6aa56b",
   "metadata": {},
   "outputs": [
    {
     "data": {
      "text/html": [
       "<div>\n",
       "<style scoped>\n",
       "    .dataframe tbody tr th:only-of-type {\n",
       "        vertical-align: middle;\n",
       "    }\n",
       "\n",
       "    .dataframe tbody tr th {\n",
       "        vertical-align: top;\n",
       "    }\n",
       "\n",
       "    .dataframe thead th {\n",
       "        text-align: right;\n",
       "    }\n",
       "</style>\n",
       "<table border=\"1\" class=\"dataframe\">\n",
       "  <thead>\n",
       "    <tr style=\"text-align: right;\">\n",
       "      <th></th>\n",
       "      <th>Product</th>\n",
       "      <th>Description</th>\n",
       "      <th>Price</th>\n",
       "    </tr>\n",
       "  </thead>\n",
       "  <tbody>\n",
       "    <tr>\n",
       "      <th>0</th>\n",
       "      <td>VINCENT CHASE</td>\n",
       "      <td>by Lenskart Polarized, UV Protection Round Sun...</td>\n",
       "      <td>₹1,344</td>\n",
       "    </tr>\n",
       "    <tr>\n",
       "      <th>1</th>\n",
       "      <td>VINCENT CHASE</td>\n",
       "      <td>UV Protection Wayfarer Sunglasses (55)</td>\n",
       "      <td>₹759</td>\n",
       "    </tr>\n",
       "    <tr>\n",
       "      <th>2</th>\n",
       "      <td>SRPM</td>\n",
       "      <td>UV Protection Wayfarer Sunglasses (50)</td>\n",
       "      <td>₹198</td>\n",
       "    </tr>\n",
       "    <tr>\n",
       "      <th>3</th>\n",
       "      <td>SUNBEE</td>\n",
       "      <td>UV Protection, Polarized Wayfarer Sunglasses (...</td>\n",
       "      <td>₹253</td>\n",
       "    </tr>\n",
       "    <tr>\n",
       "      <th>4</th>\n",
       "      <td>Elligator</td>\n",
       "      <td>UV Protection Round Sunglasses (54)</td>\n",
       "      <td>₹258</td>\n",
       "    </tr>\n",
       "    <tr>\n",
       "      <th>...</th>\n",
       "      <td>...</td>\n",
       "      <td>...</td>\n",
       "      <td>...</td>\n",
       "    </tr>\n",
       "    <tr>\n",
       "      <th>95</th>\n",
       "      <td>VINCENT CHASE</td>\n",
       "      <td>by Lenskart Polarized, UV Protection Round Sun...</td>\n",
       "      <td>₹799</td>\n",
       "    </tr>\n",
       "    <tr>\n",
       "      <th>96</th>\n",
       "      <td>Lee Topper</td>\n",
       "      <td>Riding Glasses Wrap-around Sunglasses (Free Size)</td>\n",
       "      <td>₹275</td>\n",
       "    </tr>\n",
       "    <tr>\n",
       "      <th>97</th>\n",
       "      <td>Lee Topper</td>\n",
       "      <td>UV Protection Rectangular Sunglasses (Free Size)</td>\n",
       "      <td>₹199</td>\n",
       "    </tr>\n",
       "    <tr>\n",
       "      <th>98</th>\n",
       "      <td>kingsunglasses</td>\n",
       "      <td>Mirrored, UV Protection Wayfarer Sunglasses (F...</td>\n",
       "      <td>₹239</td>\n",
       "    </tr>\n",
       "    <tr>\n",
       "      <th>99</th>\n",
       "      <td>VINCENT CHASE</td>\n",
       "      <td>by Lenskart Polarized, UV Protection Wayfarer ...</td>\n",
       "      <td>₹799</td>\n",
       "    </tr>\n",
       "  </tbody>\n",
       "</table>\n",
       "<p>100 rows × 3 columns</p>\n",
       "</div>"
      ],
      "text/plain": [
       "           Product                                        Description   Price\n",
       "0    VINCENT CHASE  by Lenskart Polarized, UV Protection Round Sun...  ₹1,344\n",
       "1    VINCENT CHASE             UV Protection Wayfarer Sunglasses (55)    ₹759\n",
       "2             SRPM             UV Protection Wayfarer Sunglasses (50)    ₹198\n",
       "3           SUNBEE  UV Protection, Polarized Wayfarer Sunglasses (...    ₹253\n",
       "4        Elligator                UV Protection Round Sunglasses (54)    ₹258\n",
       "..             ...                                                ...     ...\n",
       "95   VINCENT CHASE  by Lenskart Polarized, UV Protection Round Sun...    ₹799\n",
       "96      Lee Topper  Riding Glasses Wrap-around Sunglasses (Free Size)    ₹275\n",
       "97      Lee Topper   UV Protection Rectangular Sunglasses (Free Size)    ₹199\n",
       "98  kingsunglasses  Mirrored, UV Protection Wayfarer Sunglasses (F...    ₹239\n",
       "99   VINCENT CHASE  by Lenskart Polarized, UV Protection Wayfarer ...    ₹799\n",
       "\n",
       "[100 rows x 3 columns]"
      ]
     },
     "execution_count": 77,
     "metadata": {},
     "output_type": "execute_result"
    }
   ],
   "source": [
    "item=pd.DataFrame()\n",
    "item[\"Product\"]=product\n",
    "item[\"Description\"]=description\n",
    "item[\"Price\"]=price\n",
    "item"
   ]
  },
  {
   "cell_type": "markdown",
   "id": "577a17e1",
   "metadata": {},
   "source": [
    "# Q.5)"
   ]
  },
  {
   "cell_type": "code",
   "execution_count": 78,
   "id": "b6b746fe",
   "metadata": {},
   "outputs": [],
   "source": [
    "driver = webdriver.Firefox(executable_path=r\"C:\\geckodriver.exe\")\n",
    "driver.implicitly_wait(2)\n",
    "driver.maximize_window()\n",
    "driver.get('https://www.flipkart.com/apple-iphone-11-black-64-gb-includes- earpods-power\u0002adapter/p/itm0f37c2240b217?pid=MOBFKCTSVZAXUHGR&lid=LSTMOBFKCTSVZAXUHGREPBFGI&marketplace')"
   ]
  },
  {
   "cell_type": "code",
   "execution_count": 79,
   "id": "a0299b1b",
   "metadata": {},
   "outputs": [
    {
     "data": {
      "text/plain": [
       "<selenium.webdriver.remote.webelement.WebElement (session=\"9af20ee2-e5b5-4d81-85c8-ff967798ed30\", element=\"2e6f15f3-68c6-44db-83e6-c38eff8eabf4\")>"
      ]
     },
     "execution_count": 79,
     "metadata": {},
     "output_type": "execute_result"
    }
   ],
   "source": [
    "option=driver.find_element_by_xpath(\"/html/body/div[1]/div/div[3]/div[1]/div[2]/div[8]/div/div/div[5]/div/a/div\")\n",
    "option"
   ]
  },
  {
   "cell_type": "code",
   "execution_count": 80,
   "id": "434d7e3f",
   "metadata": {},
   "outputs": [],
   "source": [
    "option.click()"
   ]
  },
  {
   "cell_type": "code",
   "execution_count": 81,
   "id": "9bdbfeab",
   "metadata": {},
   "outputs": [
    {
     "data": {
      "text/plain": [
       "['5',\n",
       " '5',\n",
       " '5',\n",
       " '5',\n",
       " '5',\n",
       " '5',\n",
       " '5',\n",
       " '4',\n",
       " '5',\n",
       " '5',\n",
       " '5',\n",
       " '5',\n",
       " '5',\n",
       " '5',\n",
       " '5',\n",
       " '5',\n",
       " '5',\n",
       " '4',\n",
       " '5',\n",
       " '5',\n",
       " '5',\n",
       " '5',\n",
       " '5',\n",
       " '5',\n",
       " '5',\n",
       " '5',\n",
       " '5',\n",
       " '4',\n",
       " '5',\n",
       " '5',\n",
       " '5',\n",
       " '5',\n",
       " '5',\n",
       " '5',\n",
       " '5',\n",
       " '5',\n",
       " '5',\n",
       " '4',\n",
       " '5',\n",
       " '5',\n",
       " '5',\n",
       " '5',\n",
       " '5',\n",
       " '5',\n",
       " '5',\n",
       " '5',\n",
       " '5',\n",
       " '4',\n",
       " '5',\n",
       " '5',\n",
       " '5',\n",
       " '5',\n",
       " '5',\n",
       " '5',\n",
       " '5',\n",
       " '5',\n",
       " '5',\n",
       " '4',\n",
       " '5',\n",
       " '5',\n",
       " '5',\n",
       " '5',\n",
       " '5',\n",
       " '5',\n",
       " '5',\n",
       " '5',\n",
       " '5',\n",
       " '4',\n",
       " '5',\n",
       " '5',\n",
       " '5',\n",
       " '5',\n",
       " '5',\n",
       " '5',\n",
       " '5',\n",
       " '5',\n",
       " '5',\n",
       " '4',\n",
       " '5',\n",
       " '5',\n",
       " '5',\n",
       " '5',\n",
       " '5',\n",
       " '5',\n",
       " '5',\n",
       " '5',\n",
       " '5',\n",
       " '4',\n",
       " '5',\n",
       " '5',\n",
       " '5',\n",
       " '5',\n",
       " '5',\n",
       " '5',\n",
       " '5',\n",
       " '5',\n",
       " '5',\n",
       " '4',\n",
       " '5',\n",
       " '5']"
      ]
     },
     "execution_count": 81,
     "metadata": {},
     "output_type": "execute_result"
    }
   ],
   "source": [
    "rating=[]\n",
    "for i in range(0,10):\n",
    "    rating_tag=driver.find_elements_by_xpath('//div[@class=\"_3LWZlK _1BLPMq\"]')\n",
    "    rating_tag[0:100]\n",
    "    for i in rating_tag:\n",
    "        rating.append(i.text)\n",
    "        next_btn=driver.find_element_by_xpath(\"/html/body/div[1]/div/div[3]/div/div/div[2]/div[13]/div/div/nav/a[11]\")\n",
    "        next_btn\n",
    "rating=rating[0:100]\n",
    "rating"
   ]
  },
  {
   "cell_type": "code",
   "execution_count": 82,
   "id": "1e0015f2",
   "metadata": {},
   "outputs": [
    {
     "data": {
      "text/plain": [
       "['Brilliant',\n",
       " 'Simply awesome',\n",
       " 'Best in the market!',\n",
       " 'Perfect product!',\n",
       " 'Fabulous!',\n",
       " 'Worth every penny',\n",
       " 'Great product',\n",
       " 'Good choice',\n",
       " 'Highly recommended',\n",
       " 'Worth every penny',\n",
       " 'Brilliant',\n",
       " 'Simply awesome',\n",
       " 'Best in the market!',\n",
       " 'Perfect product!',\n",
       " 'Fabulous!',\n",
       " 'Worth every penny',\n",
       " 'Great product',\n",
       " 'Good choice',\n",
       " 'Highly recommended',\n",
       " 'Worth every penny',\n",
       " 'Brilliant',\n",
       " 'Simply awesome',\n",
       " 'Best in the market!',\n",
       " 'Perfect product!',\n",
       " 'Fabulous!',\n",
       " 'Worth every penny',\n",
       " 'Great product',\n",
       " 'Good choice',\n",
       " 'Highly recommended',\n",
       " 'Worth every penny',\n",
       " 'Brilliant',\n",
       " 'Simply awesome',\n",
       " 'Best in the market!',\n",
       " 'Perfect product!',\n",
       " 'Fabulous!',\n",
       " 'Worth every penny',\n",
       " 'Great product',\n",
       " 'Good choice',\n",
       " 'Highly recommended',\n",
       " 'Worth every penny',\n",
       " 'Brilliant',\n",
       " 'Simply awesome',\n",
       " 'Best in the market!',\n",
       " 'Perfect product!',\n",
       " 'Fabulous!',\n",
       " 'Worth every penny',\n",
       " 'Great product',\n",
       " 'Good choice',\n",
       " 'Highly recommended',\n",
       " 'Worth every penny',\n",
       " 'Brilliant',\n",
       " 'Simply awesome',\n",
       " 'Best in the market!',\n",
       " 'Perfect product!',\n",
       " 'Fabulous!',\n",
       " 'Worth every penny',\n",
       " 'Great product',\n",
       " 'Good choice',\n",
       " 'Highly recommended',\n",
       " 'Worth every penny',\n",
       " 'Brilliant',\n",
       " 'Simply awesome',\n",
       " 'Best in the market!',\n",
       " 'Perfect product!',\n",
       " 'Fabulous!',\n",
       " 'Worth every penny',\n",
       " 'Great product',\n",
       " 'Good choice',\n",
       " 'Highly recommended',\n",
       " 'Worth every penny',\n",
       " 'Brilliant',\n",
       " 'Simply awesome',\n",
       " 'Best in the market!',\n",
       " 'Perfect product!',\n",
       " 'Fabulous!',\n",
       " 'Worth every penny',\n",
       " 'Great product',\n",
       " 'Good choice',\n",
       " 'Highly recommended',\n",
       " 'Worth every penny',\n",
       " 'Brilliant',\n",
       " 'Simply awesome',\n",
       " 'Best in the market!',\n",
       " 'Perfect product!',\n",
       " 'Fabulous!',\n",
       " 'Worth every penny',\n",
       " 'Great product',\n",
       " 'Good choice',\n",
       " 'Highly recommended',\n",
       " 'Worth every penny',\n",
       " 'Brilliant',\n",
       " 'Simply awesome',\n",
       " 'Best in the market!',\n",
       " 'Perfect product!',\n",
       " 'Fabulous!',\n",
       " 'Worth every penny',\n",
       " 'Great product',\n",
       " 'Good choice',\n",
       " 'Highly recommended',\n",
       " 'Worth every penny']"
      ]
     },
     "execution_count": 82,
     "metadata": {},
     "output_type": "execute_result"
    }
   ],
   "source": [
    "review=[]\n",
    "for i in range(0,10):\n",
    "    review_tag=driver.find_elements_by_xpath('//p[@class=\"_2-N8zT\"]')\n",
    "    review_tag[0:100]\n",
    "    for i in review_tag:\n",
    "        review.append(i.text)\n",
    "        next_btn=driver.find_element_by_xpath(\"/html/body/div[1]/div/div[3]/div/div/div[2]/div[13]/div/div/nav/a[11]\")\n",
    "        next_btn\n",
    "review=review[0:100]\n",
    "review"
   ]
  },
  {
   "cell_type": "code",
   "execution_count": 83,
   "id": "72538a2a",
   "metadata": {},
   "outputs": [
    {
     "data": {
      "text/plain": [
       "['The Best Phone for the Money\\n\\nThe iPhone 11 offers superb cameras, a more durable design and excellent battery life for an affordable price.\\n\\nCompelling ultra-wide camera\\nNew Night mode is excellent\\nLong battery life',\n",
       " 'Really satisfied with the Product I received... It’s totally genuine and the packaging was also really good so if ur planning to buy just go for it.',\n",
       " 'Great iPhone very snappy experience as apple kind. Upgraded from iPhone 7.\\nPros\\n-Camera top class\\n- Battery top performed\\n-Chipset no need to say as apple kind\\n-Security as you expect from apple\\n- Display super bright industry leading colour\\naccuracy and super responsive\\n-Build quality as expect from apple sturdy\\npremium durable beautiful stylish.\\n-Os most stable os in smartphone industry\\n\\nCons\\n-No 5G\\n-Display is not based on OLED technology\\n-Charger headphones and 1 apple stic...\\nREAD MORE',\n",
       " 'Amazing phone with great cameras and better battery which gives you the best performance. I just love the camera .',\n",
       " 'This is my first iOS phone. I am very happy with this product. Very much satisfied with this. I love this phone.',\n",
       " 'Previously I was using one plus 3t it was a great phone\\nAnd then I decided to upgrade I am stuck between Samsung s10 plus or iPhone 11\\nI have seen the specs and everything were good except the display it’s somewhere between 720-1080 and it’s not even an amoled it’s an LCD display\\nBut I decided to go with iPhone because I have never used an IOS device I have Been an android user from the past 9 years I ordered IPhone 11 (128gb) product red\\nMy experience after using 3 weeks\\n1. The delivery ...\\nREAD MORE',\n",
       " 'Amazing Powerful and Durable Gadget.\\n\\nI’m am very happy with the camera picture quality, Amazing face id unlocked in dark room, Strong battery with perfect screen size as you can carry easily in pocket. This is my third iPhone.\\n\\nI shifted from android Samsung Note series to iPhone because of the strong build quality and peace of mind for next 3-4 years.\\n\\nDon’t think to much just go for it and I suggest you to go for minimum 128gb variant or more 256gb.\\n\\nI’ve attached my puppy pics and no fi...\\nREAD MORE',\n",
       " 'So far it’s been an AMAZING experience coming back to iOS after nearly a decade but it’s not as versatile as android though phone is sturdy dropped it accidentally a couple of times and nothing happened fortunately camera is awesome',\n",
       " 'What a camera .....just awesome ..you can feel this iPhone just awesome . Good for gaming also ...try pubg in hd it’s just wow',\n",
       " 'i11 is worthy to buy, too much happy with the product. Thank u flipkart I received the item on time..loved it..',\n",
       " 'The Best Phone for the Money\\n\\nThe iPhone 11 offers superb cameras, a more durable design and excellent battery life for an affordable price.\\n\\nCompelling ultra-wide camera\\nNew Night mode is excellent\\nLong battery life',\n",
       " 'Really satisfied with the Product I received... It’s totally genuine and the packaging was also really good so if ur planning to buy just go for it.',\n",
       " 'Great iPhone very snappy experience as apple kind. Upgraded from iPhone 7.\\nPros\\n-Camera top class\\n- Battery top performed\\n-Chipset no need to say as apple kind\\n-Security as you expect from apple\\n- Display super bright industry leading colour\\naccuracy and super responsive\\n-Build quality as expect from apple sturdy\\npremium durable beautiful stylish.\\n-Os most stable os in smartphone industry\\n\\nCons\\n-No 5G\\n-Display is not based on OLED technology\\n-Charger headphones and 1 apple stic...\\nREAD MORE',\n",
       " 'Amazing phone with great cameras and better battery which gives you the best performance. I just love the camera .',\n",
       " 'This is my first iOS phone. I am very happy with this product. Very much satisfied with this. I love this phone.',\n",
       " 'Previously I was using one plus 3t it was a great phone\\nAnd then I decided to upgrade I am stuck between Samsung s10 plus or iPhone 11\\nI have seen the specs and everything were good except the display it’s somewhere between 720-1080 and it’s not even an amoled it’s an LCD display\\nBut I decided to go with iPhone because I have never used an IOS device I have Been an android user from the past 9 years I ordered IPhone 11 (128gb) product red\\nMy experience after using 3 weeks\\n1. The delivery ...\\nREAD MORE',\n",
       " 'Amazing Powerful and Durable Gadget.\\n\\nI’m am very happy with the camera picture quality, Amazing face id unlocked in dark room, Strong battery with perfect screen size as you can carry easily in pocket. This is my third iPhone.\\n\\nI shifted from android Samsung Note series to iPhone because of the strong build quality and peace of mind for next 3-4 years.\\n\\nDon’t think to much just go for it and I suggest you to go for minimum 128gb variant or more 256gb.\\n\\nI’ve attached my puppy pics and no fi...\\nREAD MORE',\n",
       " 'So far it’s been an AMAZING experience coming back to iOS after nearly a decade but it’s not as versatile as android though phone is sturdy dropped it accidentally a couple of times and nothing happened fortunately camera is awesome',\n",
       " 'What a camera .....just awesome ..you can feel this iPhone just awesome . Good for gaming also ...try pubg in hd it’s just wow',\n",
       " 'i11 is worthy to buy, too much happy with the product. Thank u flipkart I received the item on time..loved it..',\n",
       " 'The Best Phone for the Money\\n\\nThe iPhone 11 offers superb cameras, a more durable design and excellent battery life for an affordable price.\\n\\nCompelling ultra-wide camera\\nNew Night mode is excellent\\nLong battery life',\n",
       " 'Really satisfied with the Product I received... It’s totally genuine and the packaging was also really good so if ur planning to buy just go for it.',\n",
       " 'Great iPhone very snappy experience as apple kind. Upgraded from iPhone 7.\\nPros\\n-Camera top class\\n- Battery top performed\\n-Chipset no need to say as apple kind\\n-Security as you expect from apple\\n- Display super bright industry leading colour\\naccuracy and super responsive\\n-Build quality as expect from apple sturdy\\npremium durable beautiful stylish.\\n-Os most stable os in smartphone industry\\n\\nCons\\n-No 5G\\n-Display is not based on OLED technology\\n-Charger headphones and 1 apple stic...\\nREAD MORE',\n",
       " 'Amazing phone with great cameras and better battery which gives you the best performance. I just love the camera .',\n",
       " 'This is my first iOS phone. I am very happy with this product. Very much satisfied with this. I love this phone.',\n",
       " 'Previously I was using one plus 3t it was a great phone\\nAnd then I decided to upgrade I am stuck between Samsung s10 plus or iPhone 11\\nI have seen the specs and everything were good except the display it’s somewhere between 720-1080 and it’s not even an amoled it’s an LCD display\\nBut I decided to go with iPhone because I have never used an IOS device I have Been an android user from the past 9 years I ordered IPhone 11 (128gb) product red\\nMy experience after using 3 weeks\\n1. The delivery ...\\nREAD MORE',\n",
       " 'Amazing Powerful and Durable Gadget.\\n\\nI’m am very happy with the camera picture quality, Amazing face id unlocked in dark room, Strong battery with perfect screen size as you can carry easily in pocket. This is my third iPhone.\\n\\nI shifted from android Samsung Note series to iPhone because of the strong build quality and peace of mind for next 3-4 years.\\n\\nDon’t think to much just go for it and I suggest you to go for minimum 128gb variant or more 256gb.\\n\\nI’ve attached my puppy pics and no fi...\\nREAD MORE',\n",
       " 'So far it’s been an AMAZING experience coming back to iOS after nearly a decade but it’s not as versatile as android though phone is sturdy dropped it accidentally a couple of times and nothing happened fortunately camera is awesome',\n",
       " 'What a camera .....just awesome ..you can feel this iPhone just awesome . Good for gaming also ...try pubg in hd it’s just wow',\n",
       " 'i11 is worthy to buy, too much happy with the product. Thank u flipkart I received the item on time..loved it..',\n",
       " 'The Best Phone for the Money\\n\\nThe iPhone 11 offers superb cameras, a more durable design and excellent battery life for an affordable price.\\n\\nCompelling ultra-wide camera\\nNew Night mode is excellent\\nLong battery life',\n",
       " 'Really satisfied with the Product I received... It’s totally genuine and the packaging was also really good so if ur planning to buy just go for it.',\n",
       " 'Great iPhone very snappy experience as apple kind. Upgraded from iPhone 7.\\nPros\\n-Camera top class\\n- Battery top performed\\n-Chipset no need to say as apple kind\\n-Security as you expect from apple\\n- Display super bright industry leading colour\\naccuracy and super responsive\\n-Build quality as expect from apple sturdy\\npremium durable beautiful stylish.\\n-Os most stable os in smartphone industry\\n\\nCons\\n-No 5G\\n-Display is not based on OLED technology\\n-Charger headphones and 1 apple stic...\\nREAD MORE',\n",
       " 'Amazing phone with great cameras and better battery which gives you the best performance. I just love the camera .',\n",
       " 'This is my first iOS phone. I am very happy with this product. Very much satisfied with this. I love this phone.',\n",
       " 'Previously I was using one plus 3t it was a great phone\\nAnd then I decided to upgrade I am stuck between Samsung s10 plus or iPhone 11\\nI have seen the specs and everything were good except the display it’s somewhere between 720-1080 and it’s not even an amoled it’s an LCD display\\nBut I decided to go with iPhone because I have never used an IOS device I have Been an android user from the past 9 years I ordered IPhone 11 (128gb) product red\\nMy experience after using 3 weeks\\n1. The delivery ...\\nREAD MORE',\n",
       " 'Amazing Powerful and Durable Gadget.\\n\\nI’m am very happy with the camera picture quality, Amazing face id unlocked in dark room, Strong battery with perfect screen size as you can carry easily in pocket. This is my third iPhone.\\n\\nI shifted from android Samsung Note series to iPhone because of the strong build quality and peace of mind for next 3-4 years.\\n\\nDon’t think to much just go for it and I suggest you to go for minimum 128gb variant or more 256gb.\\n\\nI’ve attached my puppy pics and no fi...\\nREAD MORE',\n",
       " 'So far it’s been an AMAZING experience coming back to iOS after nearly a decade but it’s not as versatile as android though phone is sturdy dropped it accidentally a couple of times and nothing happened fortunately camera is awesome',\n",
       " 'What a camera .....just awesome ..you can feel this iPhone just awesome . Good for gaming also ...try pubg in hd it’s just wow',\n",
       " 'i11 is worthy to buy, too much happy with the product. Thank u flipkart I received the item on time..loved it..',\n",
       " 'The Best Phone for the Money\\n\\nThe iPhone 11 offers superb cameras, a more durable design and excellent battery life for an affordable price.\\n\\nCompelling ultra-wide camera\\nNew Night mode is excellent\\nLong battery life',\n",
       " 'Really satisfied with the Product I received... It’s totally genuine and the packaging was also really good so if ur planning to buy just go for it.',\n",
       " 'Great iPhone very snappy experience as apple kind. Upgraded from iPhone 7.\\nPros\\n-Camera top class\\n- Battery top performed\\n-Chipset no need to say as apple kind\\n-Security as you expect from apple\\n- Display super bright industry leading colour\\naccuracy and super responsive\\n-Build quality as expect from apple sturdy\\npremium durable beautiful stylish.\\n-Os most stable os in smartphone industry\\n\\nCons\\n-No 5G\\n-Display is not based on OLED technology\\n-Charger headphones and 1 apple stic...\\nREAD MORE',\n",
       " 'Amazing phone with great cameras and better battery which gives you the best performance. I just love the camera .',\n",
       " 'This is my first iOS phone. I am very happy with this product. Very much satisfied with this. I love this phone.',\n",
       " 'Previously I was using one plus 3t it was a great phone\\nAnd then I decided to upgrade I am stuck between Samsung s10 plus or iPhone 11\\nI have seen the specs and everything were good except the display it’s somewhere between 720-1080 and it’s not even an amoled it’s an LCD display\\nBut I decided to go with iPhone because I have never used an IOS device I have Been an android user from the past 9 years I ordered IPhone 11 (128gb) product red\\nMy experience after using 3 weeks\\n1. The delivery ...\\nREAD MORE',\n",
       " 'Amazing Powerful and Durable Gadget.\\n\\nI’m am very happy with the camera picture quality, Amazing face id unlocked in dark room, Strong battery with perfect screen size as you can carry easily in pocket. This is my third iPhone.\\n\\nI shifted from android Samsung Note series to iPhone because of the strong build quality and peace of mind for next 3-4 years.\\n\\nDon’t think to much just go for it and I suggest you to go for minimum 128gb variant or more 256gb.\\n\\nI’ve attached my puppy pics and no fi...\\nREAD MORE',\n",
       " 'So far it’s been an AMAZING experience coming back to iOS after nearly a decade but it’s not as versatile as android though phone is sturdy dropped it accidentally a couple of times and nothing happened fortunately camera is awesome',\n",
       " 'What a camera .....just awesome ..you can feel this iPhone just awesome . Good for gaming also ...try pubg in hd it’s just wow',\n",
       " 'i11 is worthy to buy, too much happy with the product. Thank u flipkart I received the item on time..loved it..',\n",
       " 'The Best Phone for the Money\\n\\nThe iPhone 11 offers superb cameras, a more durable design and excellent battery life for an affordable price.\\n\\nCompelling ultra-wide camera\\nNew Night mode is excellent\\nLong battery life',\n",
       " 'Really satisfied with the Product I received... It’s totally genuine and the packaging was also really good so if ur planning to buy just go for it.',\n",
       " 'Great iPhone very snappy experience as apple kind. Upgraded from iPhone 7.\\nPros\\n-Camera top class\\n- Battery top performed\\n-Chipset no need to say as apple kind\\n-Security as you expect from apple\\n- Display super bright industry leading colour\\naccuracy and super responsive\\n-Build quality as expect from apple sturdy\\npremium durable beautiful stylish.\\n-Os most stable os in smartphone industry\\n\\nCons\\n-No 5G\\n-Display is not based on OLED technology\\n-Charger headphones and 1 apple stic...\\nREAD MORE',\n",
       " 'Amazing phone with great cameras and better battery which gives you the best performance. I just love the camera .',\n",
       " 'This is my first iOS phone. I am very happy with this product. Very much satisfied with this. I love this phone.',\n",
       " 'Previously I was using one plus 3t it was a great phone\\nAnd then I decided to upgrade I am stuck between Samsung s10 plus or iPhone 11\\nI have seen the specs and everything were good except the display it’s somewhere between 720-1080 and it’s not even an amoled it’s an LCD display\\nBut I decided to go with iPhone because I have never used an IOS device I have Been an android user from the past 9 years I ordered IPhone 11 (128gb) product red\\nMy experience after using 3 weeks\\n1. The delivery ...\\nREAD MORE',\n",
       " 'Amazing Powerful and Durable Gadget.\\n\\nI’m am very happy with the camera picture quality, Amazing face id unlocked in dark room, Strong battery with perfect screen size as you can carry easily in pocket. This is my third iPhone.\\n\\nI shifted from android Samsung Note series to iPhone because of the strong build quality and peace of mind for next 3-4 years.\\n\\nDon’t think to much just go for it and I suggest you to go for minimum 128gb variant or more 256gb.\\n\\nI’ve attached my puppy pics and no fi...\\nREAD MORE',\n",
       " 'So far it’s been an AMAZING experience coming back to iOS after nearly a decade but it’s not as versatile as android though phone is sturdy dropped it accidentally a couple of times and nothing happened fortunately camera is awesome',\n",
       " 'What a camera .....just awesome ..you can feel this iPhone just awesome . Good for gaming also ...try pubg in hd it’s just wow',\n",
       " 'i11 is worthy to buy, too much happy with the product. Thank u flipkart I received the item on time..loved it..',\n",
       " 'The Best Phone for the Money\\n\\nThe iPhone 11 offers superb cameras, a more durable design and excellent battery life for an affordable price.\\n\\nCompelling ultra-wide camera\\nNew Night mode is excellent\\nLong battery life',\n",
       " 'Really satisfied with the Product I received... It’s totally genuine and the packaging was also really good so if ur planning to buy just go for it.',\n",
       " 'Great iPhone very snappy experience as apple kind. Upgraded from iPhone 7.\\nPros\\n-Camera top class\\n- Battery top performed\\n-Chipset no need to say as apple kind\\n-Security as you expect from apple\\n- Display super bright industry leading colour\\naccuracy and super responsive\\n-Build quality as expect from apple sturdy\\npremium durable beautiful stylish.\\n-Os most stable os in smartphone industry\\n\\nCons\\n-No 5G\\n-Display is not based on OLED technology\\n-Charger headphones and 1 apple stic...\\nREAD MORE',\n",
       " 'Amazing phone with great cameras and better battery which gives you the best performance. I just love the camera .',\n",
       " 'This is my first iOS phone. I am very happy with this product. Very much satisfied with this. I love this phone.',\n",
       " 'Previously I was using one plus 3t it was a great phone\\nAnd then I decided to upgrade I am stuck between Samsung s10 plus or iPhone 11\\nI have seen the specs and everything were good except the display it’s somewhere between 720-1080 and it’s not even an amoled it’s an LCD display\\nBut I decided to go with iPhone because I have never used an IOS device I have Been an android user from the past 9 years I ordered IPhone 11 (128gb) product red\\nMy experience after using 3 weeks\\n1. The delivery ...\\nREAD MORE',\n",
       " 'Amazing Powerful and Durable Gadget.\\n\\nI’m am very happy with the camera picture quality, Amazing face id unlocked in dark room, Strong battery with perfect screen size as you can carry easily in pocket. This is my third iPhone.\\n\\nI shifted from android Samsung Note series to iPhone because of the strong build quality and peace of mind for next 3-4 years.\\n\\nDon’t think to much just go for it and I suggest you to go for minimum 128gb variant or more 256gb.\\n\\nI’ve attached my puppy pics and no fi...\\nREAD MORE',\n",
       " 'So far it’s been an AMAZING experience coming back to iOS after nearly a decade but it’s not as versatile as android though phone is sturdy dropped it accidentally a couple of times and nothing happened fortunately camera is awesome',\n",
       " 'What a camera .....just awesome ..you can feel this iPhone just awesome . Good for gaming also ...try pubg in hd it’s just wow',\n",
       " 'i11 is worthy to buy, too much happy with the product. Thank u flipkart I received the item on time..loved it..',\n",
       " 'The Best Phone for the Money\\n\\nThe iPhone 11 offers superb cameras, a more durable design and excellent battery life for an affordable price.\\n\\nCompelling ultra-wide camera\\nNew Night mode is excellent\\nLong battery life',\n",
       " 'Really satisfied with the Product I received... It’s totally genuine and the packaging was also really good so if ur planning to buy just go for it.',\n",
       " 'Great iPhone very snappy experience as apple kind. Upgraded from iPhone 7.\\nPros\\n-Camera top class\\n- Battery top performed\\n-Chipset no need to say as apple kind\\n-Security as you expect from apple\\n- Display super bright industry leading colour\\naccuracy and super responsive\\n-Build quality as expect from apple sturdy\\npremium durable beautiful stylish.\\n-Os most stable os in smartphone industry\\n\\nCons\\n-No 5G\\n-Display is not based on OLED technology\\n-Charger headphones and 1 apple stic...\\nREAD MORE',\n",
       " 'Amazing phone with great cameras and better battery which gives you the best performance. I just love the camera .',\n",
       " 'This is my first iOS phone. I am very happy with this product. Very much satisfied with this. I love this phone.',\n",
       " 'Previously I was using one plus 3t it was a great phone\\nAnd then I decided to upgrade I am stuck between Samsung s10 plus or iPhone 11\\nI have seen the specs and everything were good except the display it’s somewhere between 720-1080 and it’s not even an amoled it’s an LCD display\\nBut I decided to go with iPhone because I have never used an IOS device I have Been an android user from the past 9 years I ordered IPhone 11 (128gb) product red\\nMy experience after using 3 weeks\\n1. The delivery ...\\nREAD MORE',\n",
       " 'Amazing Powerful and Durable Gadget.\\n\\nI’m am very happy with the camera picture quality, Amazing face id unlocked in dark room, Strong battery with perfect screen size as you can carry easily in pocket. This is my third iPhone.\\n\\nI shifted from android Samsung Note series to iPhone because of the strong build quality and peace of mind for next 3-4 years.\\n\\nDon’t think to much just go for it and I suggest you to go for minimum 128gb variant or more 256gb.\\n\\nI’ve attached my puppy pics and no fi...\\nREAD MORE',\n",
       " 'So far it’s been an AMAZING experience coming back to iOS after nearly a decade but it’s not as versatile as android though phone is sturdy dropped it accidentally a couple of times and nothing happened fortunately camera is awesome',\n",
       " 'What a camera .....just awesome ..you can feel this iPhone just awesome . Good for gaming also ...try pubg in hd it’s just wow',\n",
       " 'i11 is worthy to buy, too much happy with the product. Thank u flipkart I received the item on time..loved it..',\n",
       " 'The Best Phone for the Money\\n\\nThe iPhone 11 offers superb cameras, a more durable design and excellent battery life for an affordable price.\\n\\nCompelling ultra-wide camera\\nNew Night mode is excellent\\nLong battery life',\n",
       " 'Really satisfied with the Product I received... It’s totally genuine and the packaging was also really good so if ur planning to buy just go for it.',\n",
       " 'Great iPhone very snappy experience as apple kind. Upgraded from iPhone 7.\\nPros\\n-Camera top class\\n- Battery top performed\\n-Chipset no need to say as apple kind\\n-Security as you expect from apple\\n- Display super bright industry leading colour\\naccuracy and super responsive\\n-Build quality as expect from apple sturdy\\npremium durable beautiful stylish.\\n-Os most stable os in smartphone industry\\n\\nCons\\n-No 5G\\n-Display is not based on OLED technology\\n-Charger headphones and 1 apple stic...\\nREAD MORE',\n",
       " 'Amazing phone with great cameras and better battery which gives you the best performance. I just love the camera .',\n",
       " 'This is my first iOS phone. I am very happy with this product. Very much satisfied with this. I love this phone.',\n",
       " 'Previously I was using one plus 3t it was a great phone\\nAnd then I decided to upgrade I am stuck between Samsung s10 plus or iPhone 11\\nI have seen the specs and everything were good except the display it’s somewhere between 720-1080 and it’s not even an amoled it’s an LCD display\\nBut I decided to go with iPhone because I have never used an IOS device I have Been an android user from the past 9 years I ordered IPhone 11 (128gb) product red\\nMy experience after using 3 weeks\\n1. The delivery ...\\nREAD MORE',\n",
       " 'Amazing Powerful and Durable Gadget.\\n\\nI’m am very happy with the camera picture quality, Amazing face id unlocked in dark room, Strong battery with perfect screen size as you can carry easily in pocket. This is my third iPhone.\\n\\nI shifted from android Samsung Note series to iPhone because of the strong build quality and peace of mind for next 3-4 years.\\n\\nDon’t think to much just go for it and I suggest you to go for minimum 128gb variant or more 256gb.\\n\\nI’ve attached my puppy pics and no fi...\\nREAD MORE',\n",
       " 'So far it’s been an AMAZING experience coming back to iOS after nearly a decade but it’s not as versatile as android though phone is sturdy dropped it accidentally a couple of times and nothing happened fortunately camera is awesome',\n",
       " 'What a camera .....just awesome ..you can feel this iPhone just awesome . Good for gaming also ...try pubg in hd it’s just wow',\n",
       " 'i11 is worthy to buy, too much happy with the product. Thank u flipkart I received the item on time..loved it..',\n",
       " 'The Best Phone for the Money\\n\\nThe iPhone 11 offers superb cameras, a more durable design and excellent battery life for an affordable price.\\n\\nCompelling ultra-wide camera\\nNew Night mode is excellent\\nLong battery life',\n",
       " 'Really satisfied with the Product I received... It’s totally genuine and the packaging was also really good so if ur planning to buy just go for it.',\n",
       " 'Great iPhone very snappy experience as apple kind. Upgraded from iPhone 7.\\nPros\\n-Camera top class\\n- Battery top performed\\n-Chipset no need to say as apple kind\\n-Security as you expect from apple\\n- Display super bright industry leading colour\\naccuracy and super responsive\\n-Build quality as expect from apple sturdy\\npremium durable beautiful stylish.\\n-Os most stable os in smartphone industry\\n\\nCons\\n-No 5G\\n-Display is not based on OLED technology\\n-Charger headphones and 1 apple stic...\\nREAD MORE',\n",
       " 'Amazing phone with great cameras and better battery which gives you the best performance. I just love the camera .',\n",
       " 'This is my first iOS phone. I am very happy with this product. Very much satisfied with this. I love this phone.',\n",
       " 'Previously I was using one plus 3t it was a great phone\\nAnd then I decided to upgrade I am stuck between Samsung s10 plus or iPhone 11\\nI have seen the specs and everything were good except the display it’s somewhere between 720-1080 and it’s not even an amoled it’s an LCD display\\nBut I decided to go with iPhone because I have never used an IOS device I have Been an android user from the past 9 years I ordered IPhone 11 (128gb) product red\\nMy experience after using 3 weeks\\n1. The delivery ...\\nREAD MORE',\n",
       " 'Amazing Powerful and Durable Gadget.\\n\\nI’m am very happy with the camera picture quality, Amazing face id unlocked in dark room, Strong battery with perfect screen size as you can carry easily in pocket. This is my third iPhone.\\n\\nI shifted from android Samsung Note series to iPhone because of the strong build quality and peace of mind for next 3-4 years.\\n\\nDon’t think to much just go for it and I suggest you to go for minimum 128gb variant or more 256gb.\\n\\nI’ve attached my puppy pics and no fi...\\nREAD MORE',\n",
       " 'So far it’s been an AMAZING experience coming back to iOS after nearly a decade but it’s not as versatile as android though phone is sturdy dropped it accidentally a couple of times and nothing happened fortunately camera is awesome',\n",
       " 'What a camera .....just awesome ..you can feel this iPhone just awesome . Good for gaming also ...try pubg in hd it’s just wow',\n",
       " 'i11 is worthy to buy, too much happy with the product. Thank u flipkart I received the item on time..loved it..']"
      ]
     },
     "execution_count": 83,
     "metadata": {},
     "output_type": "execute_result"
    }
   ],
   "source": [
    "full_rew=[]\n",
    "for i in range(0,10):\n",
    "    fullrew_tag=driver.find_elements_by_xpath('//div[@class=\"t-ZTKy\"]')\n",
    "    fullrew_tag[0:100]\n",
    "    for i in fullrew_tag:\n",
    "        full_rew.append(i.text)\n",
    "        next_btn=driver.find_element_by_xpath(\"/html/body/div[1]/div/div[3]/div/div/div[2]/div[13]/div/div/nav/a[11]\")\n",
    "        next_btn\n",
    "full_rew=full_rew[0:100]\n",
    "full_rew"
   ]
  },
  {
   "cell_type": "code",
   "execution_count": 84,
   "id": "09aac636",
   "metadata": {},
   "outputs": [
    {
     "name": "stdout",
     "output_type": "stream",
     "text": [
      "100 100 100\n"
     ]
    }
   ],
   "source": [
    "print(len(rating),len(review),len(full_rew))"
   ]
  },
  {
   "cell_type": "code",
   "execution_count": 85,
   "id": "2667e263",
   "metadata": {},
   "outputs": [
    {
     "data": {
      "text/html": [
       "<div>\n",
       "<style scoped>\n",
       "    .dataframe tbody tr th:only-of-type {\n",
       "        vertical-align: middle;\n",
       "    }\n",
       "\n",
       "    .dataframe tbody tr th {\n",
       "        vertical-align: top;\n",
       "    }\n",
       "\n",
       "    .dataframe thead th {\n",
       "        text-align: right;\n",
       "    }\n",
       "</style>\n",
       "<table border=\"1\" class=\"dataframe\">\n",
       "  <thead>\n",
       "    <tr style=\"text-align: right;\">\n",
       "      <th></th>\n",
       "      <th>Rating</th>\n",
       "      <th>Review</th>\n",
       "      <th>Full_Review</th>\n",
       "    </tr>\n",
       "  </thead>\n",
       "  <tbody>\n",
       "    <tr>\n",
       "      <th>0</th>\n",
       "      <td>5</td>\n",
       "      <td>Brilliant</td>\n",
       "      <td>The Best Phone for the Money\\n\\nThe iPhone 11 ...</td>\n",
       "    </tr>\n",
       "    <tr>\n",
       "      <th>1</th>\n",
       "      <td>5</td>\n",
       "      <td>Simply awesome</td>\n",
       "      <td>Really satisfied with the Product I received.....</td>\n",
       "    </tr>\n",
       "    <tr>\n",
       "      <th>2</th>\n",
       "      <td>5</td>\n",
       "      <td>Best in the market!</td>\n",
       "      <td>Great iPhone very snappy experience as apple k...</td>\n",
       "    </tr>\n",
       "    <tr>\n",
       "      <th>3</th>\n",
       "      <td>5</td>\n",
       "      <td>Perfect product!</td>\n",
       "      <td>Amazing phone with great cameras and better ba...</td>\n",
       "    </tr>\n",
       "    <tr>\n",
       "      <th>4</th>\n",
       "      <td>5</td>\n",
       "      <td>Fabulous!</td>\n",
       "      <td>This is my first iOS phone. I am very happy wi...</td>\n",
       "    </tr>\n",
       "    <tr>\n",
       "      <th>...</th>\n",
       "      <td>...</td>\n",
       "      <td>...</td>\n",
       "      <td>...</td>\n",
       "    </tr>\n",
       "    <tr>\n",
       "      <th>95</th>\n",
       "      <td>5</td>\n",
       "      <td>Worth every penny</td>\n",
       "      <td>Previously I was using one plus 3t it was a gr...</td>\n",
       "    </tr>\n",
       "    <tr>\n",
       "      <th>96</th>\n",
       "      <td>5</td>\n",
       "      <td>Great product</td>\n",
       "      <td>Amazing Powerful and Durable Gadget.\\n\\nI’m am...</td>\n",
       "    </tr>\n",
       "    <tr>\n",
       "      <th>97</th>\n",
       "      <td>4</td>\n",
       "      <td>Good choice</td>\n",
       "      <td>So far it’s been an AMAZING experience coming ...</td>\n",
       "    </tr>\n",
       "    <tr>\n",
       "      <th>98</th>\n",
       "      <td>5</td>\n",
       "      <td>Highly recommended</td>\n",
       "      <td>What a camera .....just awesome ..you can feel...</td>\n",
       "    </tr>\n",
       "    <tr>\n",
       "      <th>99</th>\n",
       "      <td>5</td>\n",
       "      <td>Worth every penny</td>\n",
       "      <td>i11 is worthy to buy, too much happy with the ...</td>\n",
       "    </tr>\n",
       "  </tbody>\n",
       "</table>\n",
       "<p>100 rows × 3 columns</p>\n",
       "</div>"
      ],
      "text/plain": [
       "   Rating               Review  \\\n",
       "0       5            Brilliant   \n",
       "1       5       Simply awesome   \n",
       "2       5  Best in the market!   \n",
       "3       5     Perfect product!   \n",
       "4       5            Fabulous!   \n",
       "..    ...                  ...   \n",
       "95      5    Worth every penny   \n",
       "96      5        Great product   \n",
       "97      4          Good choice   \n",
       "98      5   Highly recommended   \n",
       "99      5    Worth every penny   \n",
       "\n",
       "                                          Full_Review  \n",
       "0   The Best Phone for the Money\\n\\nThe iPhone 11 ...  \n",
       "1   Really satisfied with the Product I received.....  \n",
       "2   Great iPhone very snappy experience as apple k...  \n",
       "3   Amazing phone with great cameras and better ba...  \n",
       "4   This is my first iOS phone. I am very happy wi...  \n",
       "..                                                ...  \n",
       "95  Previously I was using one plus 3t it was a gr...  \n",
       "96  Amazing Powerful and Durable Gadget.\\n\\nI’m am...  \n",
       "97  So far it’s been an AMAZING experience coming ...  \n",
       "98  What a camera .....just awesome ..you can feel...  \n",
       "99  i11 is worthy to buy, too much happy with the ...  \n",
       "\n",
       "[100 rows x 3 columns]"
      ]
     },
     "execution_count": 85,
     "metadata": {},
     "output_type": "execute_result"
    }
   ],
   "source": [
    "mobile=pd.DataFrame()\n",
    "mobile[\"Rating\"]=rating\n",
    "mobile[\"Review\"]=review\n",
    "mobile[\"Full_Review\"]=full_rew\n",
    "mobile"
   ]
  },
  {
   "cell_type": "markdown",
   "id": "0c0702a2",
   "metadata": {},
   "source": [
    "# Q.6)"
   ]
  },
  {
   "cell_type": "code",
   "execution_count": 87,
   "id": "1d411c55",
   "metadata": {},
   "outputs": [],
   "source": [
    "driver = webdriver.Firefox(executable_path=r\"C:\\geckodriver.exe\")\n",
    "driver.implicitly_wait(2)\n",
    "driver.maximize_window()\n",
    "driver.get('https://www.flipkart.com')"
   ]
  },
  {
   "cell_type": "code",
   "execution_count": 88,
   "id": "11bb232e",
   "metadata": {},
   "outputs": [
    {
     "data": {
      "text/plain": [
       "<selenium.webdriver.remote.webelement.WebElement (session=\"7e20866d-e1e7-4899-a3a7-bcc8c314de7e\", element=\"7b71cb78-b4a1-4906-9335-ec88fcbd229d\")>"
      ]
     },
     "execution_count": 88,
     "metadata": {},
     "output_type": "execute_result"
    }
   ],
   "source": [
    "search=driver.find_element_by_class_name(\"_3704LK\")\n",
    "search"
   ]
  },
  {
   "cell_type": "code",
   "execution_count": 89,
   "id": "ef65bd08",
   "metadata": {},
   "outputs": [],
   "source": [
    "search.send_keys(\"sneakers\")"
   ]
  },
  {
   "cell_type": "code",
   "execution_count": 93,
   "id": "82dbd879",
   "metadata": {},
   "outputs": [
    {
     "data": {
      "text/plain": [
       "<selenium.webdriver.remote.webelement.WebElement (session=\"7e20866d-e1e7-4899-a3a7-bcc8c314de7e\", element=\"5cac97ca-b6f8-4ff2-b1f2-179d2ce0e637\")>"
      ]
     },
     "execution_count": 93,
     "metadata": {},
     "output_type": "execute_result"
    }
   ],
   "source": [
    "search_btn=driver.find_element_by_xpath(\"/html/body/div[1]/div/div[1]/div[1]/div[2]/div[2]/form/div/button\")\n",
    "search_btn"
   ]
  },
  {
   "cell_type": "code",
   "execution_count": 95,
   "id": "de7a900a",
   "metadata": {},
   "outputs": [],
   "source": [
    "search_btn.click()"
   ]
  },
  {
   "cell_type": "code",
   "execution_count": 96,
   "id": "a931043d",
   "metadata": {},
   "outputs": [
    {
     "data": {
      "text/plain": [
       "['HIGHLANDER',\n",
       " 'HIGHLANDER',\n",
       " 'DUNKASTON',\n",
       " 'BRUTON',\n",
       " 'World Wear Footwear',\n",
       " 'Chevit',\n",
       " 'KWIK FIT',\n",
       " 'BRUTON',\n",
       " 'BRUTON',\n",
       " 'World Wear Footwear',\n",
       " 'corsac',\n",
       " 'HIGHLANDER',\n",
       " 'D-SNEAKERZ',\n",
       " 'BRUTON',\n",
       " 'Magnolia',\n",
       " 'HIGHLANDER',\n",
       " 'BRUTON',\n",
       " 'Shoes Bank',\n",
       " 'RapidBox',\n",
       " 'RapidBox',\n",
       " 'URBANBOX',\n",
       " 'Labbin',\n",
       " 'Magnolia',\n",
       " 'HIGHLANDER',\n",
       " 'Kraasa',\n",
       " 'TR',\n",
       " 'Rzisbo',\n",
       " 'EMPTILE',\n",
       " 'CLYMB',\n",
       " 'Stefano Rads',\n",
       " 'ASTEROID',\n",
       " 'HIGHLANDER',\n",
       " 'Airland',\n",
       " 'luxury fashion',\n",
       " 'SCATCHITE',\n",
       " 'HIGHLANDER',\n",
       " 'World Wear Footwear',\n",
       " 'aadi',\n",
       " 'Zsyto',\n",
       " 'HIGHLANDER',\n",
       " 'HIGHLANDER',\n",
       " 'HIGHLANDER',\n",
       " 'DUNKASTON',\n",
       " 'BRUTON',\n",
       " 'World Wear Footwear',\n",
       " 'Chevit',\n",
       " 'KWIK FIT',\n",
       " 'BRUTON',\n",
       " 'BRUTON',\n",
       " 'World Wear Footwear',\n",
       " 'corsac',\n",
       " 'HIGHLANDER',\n",
       " 'D-SNEAKERZ',\n",
       " 'BRUTON',\n",
       " 'Magnolia',\n",
       " 'HIGHLANDER',\n",
       " 'BRUTON',\n",
       " 'Shoes Bank',\n",
       " 'RapidBox',\n",
       " 'RapidBox',\n",
       " 'URBANBOX',\n",
       " 'Labbin',\n",
       " 'Magnolia',\n",
       " 'HIGHLANDER',\n",
       " 'Kraasa',\n",
       " 'TR',\n",
       " 'Rzisbo',\n",
       " 'EMPTILE',\n",
       " 'CLYMB',\n",
       " 'Stefano Rads',\n",
       " 'ASTEROID',\n",
       " 'HIGHLANDER',\n",
       " 'Airland',\n",
       " 'luxury fashion',\n",
       " 'SCATCHITE',\n",
       " 'HIGHLANDER',\n",
       " 'World Wear Footwear',\n",
       " 'aadi',\n",
       " 'Zsyto',\n",
       " 'HIGHLANDER',\n",
       " 'HIGHLANDER',\n",
       " 'HIGHLANDER',\n",
       " 'DUNKASTON',\n",
       " 'BRUTON',\n",
       " 'World Wear Footwear',\n",
       " 'Chevit',\n",
       " 'KWIK FIT',\n",
       " 'BRUTON',\n",
       " 'BRUTON',\n",
       " 'World Wear Footwear',\n",
       " 'corsac',\n",
       " 'HIGHLANDER',\n",
       " 'D-SNEAKERZ',\n",
       " 'BRUTON',\n",
       " 'Magnolia',\n",
       " 'HIGHLANDER',\n",
       " 'BRUTON',\n",
       " 'Shoes Bank',\n",
       " 'RapidBox',\n",
       " 'RapidBox']"
      ]
     },
     "execution_count": 96,
     "metadata": {},
     "output_type": "execute_result"
    }
   ],
   "source": [
    "brand=[]\n",
    "for i in range(0,3):\n",
    "    brand_tag=driver.find_elements_by_xpath('//div[@class=\"_2WkVRV\"]')\n",
    "    brand_tag[0:100]\n",
    "    for i in brand_tag:\n",
    "        brand.append(i.text)\n",
    "        next_btn=driver.find_element_by_xpath(\"/html/body/div[1]/div/div[3]/div[1]/div[2]/div[12]/div/div/nav/a[11]\")\n",
    "        next_btn\n",
    "brand=brand[0:100]\n",
    "brand"
   ]
  },
  {
   "cell_type": "code",
   "execution_count": 97,
   "id": "b762c9c5",
   "metadata": {},
   "outputs": [
    {
     "data": {
      "text/plain": [
       "['Sneakers For Men',\n",
       " 'Sneakers For Men',\n",
       " 'Sneakers For Men',\n",
       " 'Modern Trendy Sneakers Shoes Sneakers For Men',\n",
       " 'Sneakers For Men',\n",
       " 'Super Stylish & Trendy Combo Pack of 02 Pairs Sneakers ...',\n",
       " 'Kwik FIT casual sneaker shoes and partywear shoes Casua...',\n",
       " 'Combo Pack Of 4 Casual Shoes Loafer Shoes Sneakers For ...',\n",
       " 'Sneaker Sneakers For Men',\n",
       " '5011-Latest Collection Stylish Casual Loafer Sneakers S...',\n",
       " 'STYLISH MENS BLACK AND WHITE SNEAKER Sneakers For Men',\n",
       " 'Sneakers For Men',\n",
       " \"Casual , Partywear Sneakers Shoes For Men's And Boys Wh...\",\n",
       " 'Modern & Trendy Collection Combo Pack of 02 Shoes for M...',\n",
       " 'Sneakers For Men',\n",
       " 'Sneakers For Men',\n",
       " 'Lattest Sneakers Shoe Sneakers For Men',\n",
       " \"White Sneaker For Men's/Boy's Sneakers For Men\",\n",
       " 'Sneakers For Men',\n",
       " 'Sneakers For Men',\n",
       " 'Sneakers For Men',\n",
       " 'Series 7 Sneakers For Men',\n",
       " 'Sneakers For Men',\n",
       " 'Sneakers For Men',\n",
       " 'all white heartbeat casual shoe Sneakers For Men',\n",
       " 'Sneakers For Men',\n",
       " \"Original Luxury Branded Fashionable Men's Casual Walkin...\",\n",
       " 'sneaker men red 1258 - 6 Sneakers For Men',\n",
       " 'Sneakers For Men',\n",
       " 'Sneakers For Men',\n",
       " 'Men 5014 Latest Collection Stylish Casual Sports Loafer...',\n",
       " 'Sneakers For Men',\n",
       " 'Sneakers For Men',\n",
       " 'Sneakers For Men',\n",
       " 'Sneakers For Men',\n",
       " 'Sneakers For Men',\n",
       " 'Modern Trendy Sneakers Shoes Sneakers For Men',\n",
       " 'Sneakers For Men',\n",
       " 'Super Stylish & Trendy Combo Pack of 02 Pairs Sneakers ...',\n",
       " 'Kwik FIT casual sneaker shoes and partywear shoes Casua...',\n",
       " 'Combo Pack Of 4 Casual Shoes Loafer Shoes Sneakers For ...',\n",
       " 'Sneaker Sneakers For Men',\n",
       " '5011-Latest Collection Stylish Casual Loafer Sneakers S...',\n",
       " 'STYLISH MENS BLACK AND WHITE SNEAKER Sneakers For Men',\n",
       " 'Sneakers For Men',\n",
       " \"Casual , Partywear Sneakers Shoes For Men's And Boys Wh...\",\n",
       " 'Modern & Trendy Collection Combo Pack of 02 Shoes for M...',\n",
       " 'Sneakers For Men',\n",
       " 'Sneakers For Men',\n",
       " 'Lattest Sneakers Shoe Sneakers For Men',\n",
       " \"White Sneaker For Men's/Boy's Sneakers For Men\",\n",
       " 'Sneakers For Men',\n",
       " 'Sneakers For Men',\n",
       " 'Sneakers For Men',\n",
       " 'Series 7 Sneakers For Men',\n",
       " 'Sneakers For Men',\n",
       " 'Sneakers For Men',\n",
       " 'all white heartbeat casual shoe Sneakers For Men',\n",
       " 'Sneakers For Men',\n",
       " \"Original Luxury Branded Fashionable Men's Casual Walkin...\",\n",
       " 'sneaker men red 1258 - 6 Sneakers For Men',\n",
       " 'Sneakers For Men',\n",
       " 'Sneakers For Men',\n",
       " 'Men 5014 Latest Collection Stylish Casual Sports Loafer...',\n",
       " 'Sneakers For Men',\n",
       " 'Sneakers For Men',\n",
       " 'Sneakers For Men',\n",
       " 'Sneakers For Men',\n",
       " 'Sneakers For Men',\n",
       " 'Modern Trendy Sneakers Shoes Sneakers For Men',\n",
       " 'Sneakers For Men',\n",
       " 'Super Stylish & Trendy Combo Pack of 02 Pairs Sneakers ...',\n",
       " 'Kwik FIT casual sneaker shoes and partywear shoes Casua...',\n",
       " 'Combo Pack Of 4 Casual Shoes Loafer Shoes Sneakers For ...',\n",
       " 'Sneaker Sneakers For Men',\n",
       " '5011-Latest Collection Stylish Casual Loafer Sneakers S...',\n",
       " 'STYLISH MENS BLACK AND WHITE SNEAKER Sneakers For Men',\n",
       " 'Sneakers For Men',\n",
       " \"Casual , Partywear Sneakers Shoes For Men's And Boys Wh...\",\n",
       " 'Modern & Trendy Collection Combo Pack of 02 Shoes for M...',\n",
       " 'Sneakers For Men',\n",
       " 'Sneakers For Men',\n",
       " 'Lattest Sneakers Shoe Sneakers For Men',\n",
       " \"White Sneaker For Men's/Boy's Sneakers For Men\",\n",
       " 'Sneakers For Men',\n",
       " 'Sneakers For Men',\n",
       " 'Sneakers For Men',\n",
       " 'Series 7 Sneakers For Men',\n",
       " 'Sneakers For Men',\n",
       " 'Sneakers For Men',\n",
       " 'all white heartbeat casual shoe Sneakers For Men',\n",
       " 'Sneakers For Men',\n",
       " \"Original Luxury Branded Fashionable Men's Casual Walkin...\",\n",
       " 'sneaker men red 1258 - 6 Sneakers For Men',\n",
       " 'Sneakers For Men',\n",
       " 'Sneakers For Men',\n",
       " 'Men 5014 Latest Collection Stylish Casual Sports Loafer...',\n",
       " 'Sneakers For Men',\n",
       " 'Sneakers For Men',\n",
       " 'Sneakers For Men']"
      ]
     },
     "execution_count": 97,
     "metadata": {},
     "output_type": "execute_result"
    }
   ],
   "source": [
    "product_des=[]\n",
    "for i in range(0,4):\n",
    "    description_tag=driver.find_elements_by_xpath('//a[@class=\"IRpwTa\"]')\n",
    "    description_tag[0:100]\n",
    "    for i in description_tag:\n",
    "        product_des.append(i.text)\n",
    "        next_btn=driver.find_element_by_xpath(\"/html/body/div[1]/div/div[3]/div[1]/div[2]/div[12]/div/div/nav/a[11]\")\n",
    "        next_btn\n",
    "product_des=product_des[0:100]\n",
    "product_des"
   ]
  },
  {
   "cell_type": "code",
   "execution_count": 98,
   "id": "fcf23ca9",
   "metadata": {},
   "outputs": [
    {
     "data": {
      "text/plain": [
       "['₹995',\n",
       " '₹719',\n",
       " '₹343',\n",
       " '₹259',\n",
       " '₹199',\n",
       " '₹649',\n",
       " '₹399',\n",
       " '₹499',\n",
       " '₹299',\n",
       " '₹199',\n",
       " '₹449',\n",
       " '₹719',\n",
       " '₹299',\n",
       " '₹471',\n",
       " '₹448',\n",
       " '₹995',\n",
       " '₹299',\n",
       " '₹298',\n",
       " '₹680',\n",
       " '₹630',\n",
       " '₹198',\n",
       " '₹499',\n",
       " '₹448',\n",
       " '₹995',\n",
       " '₹444',\n",
       " '₹360',\n",
       " '₹494',\n",
       " '₹397',\n",
       " '₹616',\n",
       " '₹240',\n",
       " '₹474',\n",
       " '₹796',\n",
       " '₹198',\n",
       " '₹489',\n",
       " '₹398',\n",
       " '₹796',\n",
       " '₹259',\n",
       " '₹359',\n",
       " '₹311',\n",
       " '₹995',\n",
       " '₹995',\n",
       " '₹719',\n",
       " '₹343',\n",
       " '₹259',\n",
       " '₹199',\n",
       " '₹649',\n",
       " '₹399',\n",
       " '₹499',\n",
       " '₹299',\n",
       " '₹199',\n",
       " '₹449',\n",
       " '₹719',\n",
       " '₹299',\n",
       " '₹471',\n",
       " '₹448',\n",
       " '₹995',\n",
       " '₹299',\n",
       " '₹298',\n",
       " '₹680',\n",
       " '₹630',\n",
       " '₹198',\n",
       " '₹499',\n",
       " '₹448',\n",
       " '₹995',\n",
       " '₹444',\n",
       " '₹360',\n",
       " '₹494',\n",
       " '₹397',\n",
       " '₹616',\n",
       " '₹240',\n",
       " '₹474',\n",
       " '₹796',\n",
       " '₹198',\n",
       " '₹489',\n",
       " '₹398',\n",
       " '₹796',\n",
       " '₹259',\n",
       " '₹359',\n",
       " '₹311',\n",
       " '₹995',\n",
       " '₹995',\n",
       " '₹719',\n",
       " '₹343',\n",
       " '₹259',\n",
       " '₹199',\n",
       " '₹649',\n",
       " '₹399',\n",
       " '₹499',\n",
       " '₹299',\n",
       " '₹199',\n",
       " '₹449',\n",
       " '₹719',\n",
       " '₹299',\n",
       " '₹471',\n",
       " '₹448',\n",
       " '₹995',\n",
       " '₹299',\n",
       " '₹298',\n",
       " '₹680',\n",
       " '₹630']"
      ]
     },
     "execution_count": 98,
     "metadata": {},
     "output_type": "execute_result"
    }
   ],
   "source": [
    "price=[]\n",
    "for i in range(0,3):\n",
    "    price_tag=driver.find_elements_by_xpath('//div[@class=\"_30jeq3\"]')\n",
    "    price_tag[0:100]\n",
    "    for i in price_tag:\n",
    "        price.append(i.text)\n",
    "        next_btn=driver.find_element_by_xpath(\"/html/body/div[1]/div/div[3]/div[1]/div[2]/div[12]/div/div/nav/a[11]\")\n",
    "        next_btn\n",
    "price=price[0:100]\n",
    "price"
   ]
  },
  {
   "cell_type": "code",
   "execution_count": 99,
   "id": "bcd8b993",
   "metadata": {},
   "outputs": [
    {
     "name": "stdout",
     "output_type": "stream",
     "text": [
      "100 100 100\n"
     ]
    }
   ],
   "source": [
    "print(len(brand),len(product_des),len(price))"
   ]
  },
  {
   "cell_type": "code",
   "execution_count": 100,
   "id": "9e0fa89c",
   "metadata": {},
   "outputs": [
    {
     "data": {
      "text/html": [
       "<div>\n",
       "<style scoped>\n",
       "    .dataframe tbody tr th:only-of-type {\n",
       "        vertical-align: middle;\n",
       "    }\n",
       "\n",
       "    .dataframe tbody tr th {\n",
       "        vertical-align: top;\n",
       "    }\n",
       "\n",
       "    .dataframe thead th {\n",
       "        text-align: right;\n",
       "    }\n",
       "</style>\n",
       "<table border=\"1\" class=\"dataframe\">\n",
       "  <thead>\n",
       "    <tr style=\"text-align: right;\">\n",
       "      <th></th>\n",
       "      <th>Brand</th>\n",
       "      <th>Description</th>\n",
       "      <th>Price</th>\n",
       "    </tr>\n",
       "  </thead>\n",
       "  <tbody>\n",
       "    <tr>\n",
       "      <th>0</th>\n",
       "      <td>HIGHLANDER</td>\n",
       "      <td>Sneakers For Men</td>\n",
       "      <td>₹995</td>\n",
       "    </tr>\n",
       "    <tr>\n",
       "      <th>1</th>\n",
       "      <td>HIGHLANDER</td>\n",
       "      <td>Sneakers For Men</td>\n",
       "      <td>₹719</td>\n",
       "    </tr>\n",
       "    <tr>\n",
       "      <th>2</th>\n",
       "      <td>DUNKASTON</td>\n",
       "      <td>Sneakers For Men</td>\n",
       "      <td>₹343</td>\n",
       "    </tr>\n",
       "    <tr>\n",
       "      <th>3</th>\n",
       "      <td>BRUTON</td>\n",
       "      <td>Modern Trendy Sneakers Shoes Sneakers For Men</td>\n",
       "      <td>₹259</td>\n",
       "    </tr>\n",
       "    <tr>\n",
       "      <th>4</th>\n",
       "      <td>World Wear Footwear</td>\n",
       "      <td>Sneakers For Men</td>\n",
       "      <td>₹199</td>\n",
       "    </tr>\n",
       "    <tr>\n",
       "      <th>...</th>\n",
       "      <td>...</td>\n",
       "      <td>...</td>\n",
       "      <td>...</td>\n",
       "    </tr>\n",
       "    <tr>\n",
       "      <th>95</th>\n",
       "      <td>HIGHLANDER</td>\n",
       "      <td>Sneakers For Men</td>\n",
       "      <td>₹995</td>\n",
       "    </tr>\n",
       "    <tr>\n",
       "      <th>96</th>\n",
       "      <td>BRUTON</td>\n",
       "      <td>Men 5014 Latest Collection Stylish Casual Spor...</td>\n",
       "      <td>₹299</td>\n",
       "    </tr>\n",
       "    <tr>\n",
       "      <th>97</th>\n",
       "      <td>Shoes Bank</td>\n",
       "      <td>Sneakers For Men</td>\n",
       "      <td>₹298</td>\n",
       "    </tr>\n",
       "    <tr>\n",
       "      <th>98</th>\n",
       "      <td>RapidBox</td>\n",
       "      <td>Sneakers For Men</td>\n",
       "      <td>₹680</td>\n",
       "    </tr>\n",
       "    <tr>\n",
       "      <th>99</th>\n",
       "      <td>RapidBox</td>\n",
       "      <td>Sneakers For Men</td>\n",
       "      <td>₹630</td>\n",
       "    </tr>\n",
       "  </tbody>\n",
       "</table>\n",
       "<p>100 rows × 3 columns</p>\n",
       "</div>"
      ],
      "text/plain": [
       "                  Brand                                        Description  \\\n",
       "0            HIGHLANDER                                   Sneakers For Men   \n",
       "1            HIGHLANDER                                   Sneakers For Men   \n",
       "2             DUNKASTON                                   Sneakers For Men   \n",
       "3                BRUTON      Modern Trendy Sneakers Shoes Sneakers For Men   \n",
       "4   World Wear Footwear                                   Sneakers For Men   \n",
       "..                  ...                                                ...   \n",
       "95           HIGHLANDER                                   Sneakers For Men   \n",
       "96               BRUTON  Men 5014 Latest Collection Stylish Casual Spor...   \n",
       "97           Shoes Bank                                   Sneakers For Men   \n",
       "98             RapidBox                                   Sneakers For Men   \n",
       "99             RapidBox                                   Sneakers For Men   \n",
       "\n",
       "   Price  \n",
       "0   ₹995  \n",
       "1   ₹719  \n",
       "2   ₹343  \n",
       "3   ₹259  \n",
       "4   ₹199  \n",
       "..   ...  \n",
       "95  ₹995  \n",
       "96  ₹299  \n",
       "97  ₹298  \n",
       "98  ₹680  \n",
       "99  ₹630  \n",
       "\n",
       "[100 rows x 3 columns]"
      ]
     },
     "execution_count": 100,
     "metadata": {},
     "output_type": "execute_result"
    }
   ],
   "source": [
    "sneaker=pd.DataFrame()\n",
    "sneaker[\"Brand\"]=brand\n",
    "sneaker[\"Description\"]=product_des\n",
    "sneaker[\"Price\"]=price\n",
    "sneaker"
   ]
  },
  {
   "cell_type": "markdown",
   "id": "8d997684",
   "metadata": {},
   "source": [
    "# Q.7)"
   ]
  },
  {
   "cell_type": "code",
   "execution_count": 101,
   "id": "20b895ce",
   "metadata": {},
   "outputs": [],
   "source": [
    "driver = webdriver.Firefox(executable_path=r\"C:\\geckodriver.exe\")\n",
    "driver.implicitly_wait(2)\n",
    "driver.maximize_window()\n",
    "driver.get('https://www.myntra.com/shoes')"
   ]
  },
  {
   "cell_type": "code",
   "execution_count": 102,
   "id": "146ae07f",
   "metadata": {},
   "outputs": [
    {
     "data": {
      "text/plain": [
       "<selenium.webdriver.remote.webelement.WebElement (session=\"7396c0f2-e6b9-4281-af16-da32212a66fb\", element=\"2d9640ed-d36b-4830-93b3-5277708f9dd6\")>"
      ]
     },
     "execution_count": 102,
     "metadata": {},
     "output_type": "execute_result"
    }
   ],
   "source": [
    "price_filter=driver.find_element_by_xpath(\"/html/body/div[2]/div/div[1]/main/div[3]/div[1]/section/div/div[5]/ul/li[2]/label\")\n",
    "price_filter"
   ]
  },
  {
   "cell_type": "code",
   "execution_count": 103,
   "id": "087a7d46",
   "metadata": {},
   "outputs": [],
   "source": [
    "price_filter.click()"
   ]
  },
  {
   "cell_type": "code",
   "execution_count": 104,
   "id": "52f1b3b7",
   "metadata": {},
   "outputs": [
    {
     "data": {
      "text/plain": [
       "<selenium.webdriver.remote.webelement.WebElement (session=\"7396c0f2-e6b9-4281-af16-da32212a66fb\", element=\"a7a01bef-c824-403f-89b0-8cf2efadb6a2\")>"
      ]
     },
     "execution_count": 104,
     "metadata": {},
     "output_type": "execute_result"
    }
   ],
   "source": [
    "color_filter=driver.find_element_by_xpath(\"/html/body/div[2]/div/div[1]/main/div[3]/div[1]/section/div/div[6]/ul/li[1]/label\")\n",
    "color_filter"
   ]
  },
  {
   "cell_type": "code",
   "execution_count": 105,
   "id": "7c54fcce",
   "metadata": {},
   "outputs": [],
   "source": [
    "color_filter.click()"
   ]
  },
  {
   "cell_type": "code",
   "execution_count": 106,
   "id": "8d81b6ea",
   "metadata": {},
   "outputs": [
    {
     "data": {
      "text/plain": [
       "['ALDO',\n",
       " 'Reebok',\n",
       " 'Nike',\n",
       " 'ALDO',\n",
       " 'Tommy Hilfiger',\n",
       " 'ALDO',\n",
       " 'Puma',\n",
       " 'Puma',\n",
       " 'Puma',\n",
       " 'Hush Puppies',\n",
       " 'Nike',\n",
       " 'Puma',\n",
       " 'Puma',\n",
       " 'ASICS',\n",
       " 'Skechers',\n",
       " 'Hush Puppies',\n",
       " 'Hush Puppies',\n",
       " 'Saint G',\n",
       " 'Bugatti',\n",
       " 'Puma',\n",
       " 'Hush Puppies',\n",
       " 'J.FONTINI',\n",
       " 'Saint G',\n",
       " 'TRIBAN By Decathlon',\n",
       " 'Hush Puppies',\n",
       " 'Columbia',\n",
       " 'Sole To Soul',\n",
       " 'Tommy Hilfiger',\n",
       " 'Tommy Hilfiger',\n",
       " 'MANGO',\n",
       " 'Puma',\n",
       " 'Heel & Buckle London',\n",
       " 'Geox',\n",
       " 'Geox',\n",
       " 'ALDO',\n",
       " 'ALDO',\n",
       " 'ALDO',\n",
       " 'J.FONTINI',\n",
       " 'Bugatti',\n",
       " 'J.FONTINI',\n",
       " 'Saint G',\n",
       " 'DAVINCHI',\n",
       " 'MANGO',\n",
       " 'Sole To Soul',\n",
       " 'Geox',\n",
       " 'Sole To Soul',\n",
       " 'Sole To Soul',\n",
       " 'ROSSO BRUNELLO',\n",
       " 'Heel & Buckle London',\n",
       " 'DAVINCHI',\n",
       " 'ALDO',\n",
       " 'Reebok',\n",
       " 'Nike',\n",
       " 'ALDO',\n",
       " 'Tommy Hilfiger',\n",
       " 'ALDO',\n",
       " 'Puma',\n",
       " 'Puma',\n",
       " 'Puma',\n",
       " 'Hush Puppies',\n",
       " 'Nike',\n",
       " 'Puma',\n",
       " 'Puma',\n",
       " 'ASICS',\n",
       " 'Skechers',\n",
       " 'Hush Puppies',\n",
       " 'Hush Puppies',\n",
       " 'Saint G',\n",
       " 'Bugatti',\n",
       " 'Puma',\n",
       " 'Hush Puppies',\n",
       " 'J.FONTINI',\n",
       " 'Saint G',\n",
       " 'TRIBAN By Decathlon',\n",
       " 'Hush Puppies',\n",
       " 'Columbia',\n",
       " 'Sole To Soul',\n",
       " 'Tommy Hilfiger',\n",
       " 'Tommy Hilfiger',\n",
       " 'MANGO',\n",
       " 'Puma',\n",
       " 'Heel & Buckle London',\n",
       " 'Geox',\n",
       " 'Geox',\n",
       " 'ALDO',\n",
       " 'ALDO',\n",
       " 'ALDO',\n",
       " 'J.FONTINI',\n",
       " 'Bugatti',\n",
       " 'J.FONTINI',\n",
       " 'Saint G',\n",
       " 'DAVINCHI',\n",
       " 'MANGO',\n",
       " 'Sole To Soul',\n",
       " 'Geox',\n",
       " 'Sole To Soul',\n",
       " 'Sole To Soul',\n",
       " 'ROSSO BRUNELLO',\n",
       " 'Heel & Buckle London',\n",
       " 'DAVINCHI']"
      ]
     },
     "execution_count": 106,
     "metadata": {},
     "output_type": "execute_result"
    }
   ],
   "source": [
    "brand=[]\n",
    "for i in range(0,3):\n",
    "    brand_tag=driver.find_elements_by_xpath('//h3[@class=\"product-brand\"]')\n",
    "    brand_tag[0:100]\n",
    "    for i in brand_tag:\n",
    "        brand.append(i.text)\n",
    "        next_btn=driver.find_element_by_xpath(\"/html/body/div[2]/div/div/main/div[3]/div[2]/div/div[2]/section/div[2]/ul/li[12]\")\n",
    "        next_btn\n",
    "brand=brand[0:100]\n",
    "brand"
   ]
  },
  {
   "cell_type": "code",
   "execution_count": 107,
   "id": "4bf6a769",
   "metadata": {},
   "outputs": [
    {
     "data": {
      "text/plain": [
       "['Men Leather Driving Shoes',\n",
       " 'Men Zig Dynamica 2.0 Running',\n",
       " 'Men Winflo 7 Running Shoes',\n",
       " 'Men Printed Sneakers',\n",
       " 'Men Cleated Leather Sneakers',\n",
       " 'Men Woven Design Sneakers',\n",
       " 'Men Jamming 2.0 Running Shoes',\n",
       " 'Eternity Nitro Running Shoes',\n",
       " 'Electrify Nitro Running Shoes',\n",
       " 'Men Solid Leather Formal Slip-Ons',\n",
       " 'Men Air Max Dawn Sneakers',\n",
       " 'Men FUSE Training Shoes',\n",
       " 'Men Training or Gym Shoes',\n",
       " 'Women Running Shoes',\n",
       " 'Men Go Run Hyper Burst Running',\n",
       " 'Men Solid Leather Formal Slip-Ons',\n",
       " 'Men Formal Derbys',\n",
       " 'Men Mid-Top Chelsea Boots',\n",
       " 'Men Solid Leather Formal Derbys',\n",
       " 'Women Velocity NITRO Runners',\n",
       " 'Men Solid Formal Slip-Ons',\n",
       " 'Men Black Leather Loafers',\n",
       " 'Women Leather Block Heels',\n",
       " 'Unisex Training or Gym Shoes',\n",
       " 'Men Solid Leather Formal Derbys',\n",
       " 'Men FACET OUTDRY Trekking Shoe',\n",
       " 'Women Block Heeled Boots',\n",
       " 'Women CLEAT Textured Sneakers',\n",
       " 'Leather Sandals',\n",
       " 'Women Solid Sneakers',\n",
       " 'Women Eternity NITRO Shoes',\n",
       " 'Men Suede Loafers',\n",
       " 'Men Striped Leather Sneakers',\n",
       " 'Men Leather Driving Shoes',\n",
       " 'Wedge Sandals',\n",
       " 'Leather Slim Heels',\n",
       " 'Wedge Sandals',\n",
       " 'Men Textured Leather Loafers',\n",
       " 'Men Textured Leather High-Top Flat Boots',\n",
       " 'Men Textured Leather Loafers',\n",
       " 'Leather High-Top Heeled Boots',\n",
       " 'Men Textured Formal Leather Loafers',\n",
       " 'Women Heeled Leather Loafers',\n",
       " 'High-Top Block Heeled Boots',\n",
       " 'Women Leather Pumps',\n",
       " 'High-Top Platform Heeled Boots',\n",
       " 'Suede High-Top Block Heeled Boots',\n",
       " 'Printed PU Kitten Sandals',\n",
       " 'Men Formal Leather Derby',\n",
       " 'Solid Slip On Shoes',\n",
       " 'Men Leather Driving Shoes',\n",
       " 'Men Zig Dynamica 2.0 Running',\n",
       " 'Men Winflo 7 Running Shoes',\n",
       " 'Men Printed Sneakers',\n",
       " 'Men Cleated Leather Sneakers',\n",
       " 'Men Woven Design Sneakers',\n",
       " 'Men Jamming 2.0 Running Shoes',\n",
       " 'Eternity Nitro Running Shoes',\n",
       " 'Electrify Nitro Running Shoes',\n",
       " 'Men Solid Leather Formal Slip-Ons',\n",
       " 'Men Air Max Dawn Sneakers',\n",
       " 'Men FUSE Training Shoes',\n",
       " 'Men Training or Gym Shoes',\n",
       " 'Women Running Shoes',\n",
       " 'Men Go Run Hyper Burst Running',\n",
       " 'Men Solid Leather Formal Slip-Ons',\n",
       " 'Men Formal Derbys',\n",
       " 'Men Mid-Top Chelsea Boots',\n",
       " 'Men Solid Leather Formal Derbys',\n",
       " 'Women Velocity NITRO Runners',\n",
       " 'Men Solid Formal Slip-Ons',\n",
       " 'Men Black Leather Loafers',\n",
       " 'Women Leather Block Heels',\n",
       " 'Unisex Training or Gym Shoes',\n",
       " 'Men Solid Leather Formal Derbys',\n",
       " 'Men FACET OUTDRY Trekking Shoe',\n",
       " 'Women Block Heeled Boots',\n",
       " 'Women CLEAT Textured Sneakers',\n",
       " 'Leather Sandals',\n",
       " 'Women Solid Sneakers',\n",
       " 'Women Eternity NITRO Shoes',\n",
       " 'Men Suede Loafers',\n",
       " 'Men Striped Leather Sneakers',\n",
       " 'Men Leather Driving Shoes',\n",
       " 'Wedge Sandals',\n",
       " 'Leather Slim Heels',\n",
       " 'Wedge Sandals',\n",
       " 'Men Textured Leather Loafers',\n",
       " 'Men Textured Leather High-Top Flat Boots',\n",
       " 'Men Textured Leather Loafers',\n",
       " 'Leather High-Top Heeled Boots',\n",
       " 'Men Textured Formal Leather Loafers',\n",
       " 'Women Heeled Leather Loafers',\n",
       " 'High-Top Block Heeled Boots',\n",
       " 'Women Leather Pumps',\n",
       " 'High-Top Platform Heeled Boots',\n",
       " 'Suede High-Top Block Heeled Boots',\n",
       " 'Printed PU Kitten Sandals',\n",
       " 'Men Formal Leather Derby',\n",
       " 'Solid Slip On Shoes']"
      ]
     },
     "execution_count": 107,
     "metadata": {},
     "output_type": "execute_result"
    }
   ],
   "source": [
    "product_des=[]\n",
    "for i in range(0,4):\n",
    "    description_tag=driver.find_elements_by_xpath('//h4[@class=\"product-product\"]')\n",
    "    description_tag[0:100]\n",
    "    for i in description_tag:\n",
    "        product_des.append(i.text)\n",
    "        next_btn=driver.find_element_by_xpath(\"/html/body/div[2]/div/div/main/div[3]/div[2]/div/div[2]/section/div[2]/ul/li[12]\")\n",
    "        next_btn\n",
    "product_des=product_des[0:100]\n",
    "product_des"
   ]
  },
  {
   "cell_type": "code",
   "execution_count": 108,
   "id": "a283c7d1",
   "metadata": {},
   "outputs": [
    {
     "data": {
      "text/plain": [
       "['Rs. 12999',\n",
       " 'Rs. 7999',\n",
       " 'Rs. 7995',\n",
       " 'Rs. 9099Rs. 12999(30% OFF)',\n",
       " 'Rs. 7739Rs. 8599(10% OFF)',\n",
       " 'Rs. 13999',\n",
       " 'Rs. 12999',\n",
       " 'Rs. 12999',\n",
       " 'Rs. 9999',\n",
       " 'Rs. 7649Rs. 8999(15% OFF)',\n",
       " 'Rs. 10995',\n",
       " 'Rs. 7999',\n",
       " 'Rs. 7999',\n",
       " 'Rs. 7999',\n",
       " 'Rs. 7224Rs. 8499(15% OFF)',\n",
       " 'Rs. 8499Rs. 9999(15% OFF)',\n",
       " 'Rs. 8499Rs. 9999(15% OFF)',\n",
       " 'Rs. 10500Rs. 10900(Rs. 400 OFF)',\n",
       " 'Rs. 9499',\n",
       " 'Rs. 8249Rs. 10999(25% OFF)',\n",
       " 'Rs. 8499Rs. 9999(15% OFF)',\n",
       " 'Rs. 8490',\n",
       " 'Rs. 9500',\n",
       " 'Rs. 8579Rs. 10999(22% OFF)',\n",
       " 'Rs. 8499Rs. 9999(15% OFF)',\n",
       " 'Rs. 12999',\n",
       " 'Rs. 8900',\n",
       " 'Rs. 7739Rs. 8599(10% OFF)',\n",
       " 'Rs. 7599',\n",
       " 'Rs. 8990',\n",
       " 'Rs. 9099Rs. 12999(30% OFF)',\n",
       " 'Rs. 12990',\n",
       " 'Rs. 9990',\n",
       " 'Rs. 9499',\n",
       " 'Rs. 7999',\n",
       " 'Rs. 8399Rs. 11999(30% OFF)',\n",
       " 'Rs. 7999',\n",
       " 'Rs. 8490',\n",
       " 'Rs. 8399Rs. 11999(30% OFF)',\n",
       " 'Rs. 7990',\n",
       " 'Rs. 10625Rs. 12500(15% OFF)',\n",
       " 'Rs. 8990',\n",
       " 'Rs. 7990',\n",
       " 'Rs. 7900',\n",
       " 'Rs. 8999',\n",
       " 'Rs. 8900',\n",
       " 'Rs. 9500',\n",
       " 'Rs. 8499',\n",
       " 'Rs. 7990',\n",
       " 'Rs. 7990',\n",
       " 'Rs. 12999',\n",
       " 'Rs. 7999',\n",
       " 'Rs. 7995',\n",
       " 'Rs. 9099Rs. 12999(30% OFF)',\n",
       " 'Rs. 7739Rs. 8599(10% OFF)',\n",
       " 'Rs. 13999',\n",
       " 'Rs. 12999',\n",
       " 'Rs. 12999',\n",
       " 'Rs. 9999',\n",
       " 'Rs. 7649Rs. 8999(15% OFF)',\n",
       " 'Rs. 10995',\n",
       " 'Rs. 7999',\n",
       " 'Rs. 7999',\n",
       " 'Rs. 7999',\n",
       " 'Rs. 7224Rs. 8499(15% OFF)',\n",
       " 'Rs. 8499Rs. 9999(15% OFF)',\n",
       " 'Rs. 8499Rs. 9999(15% OFF)',\n",
       " 'Rs. 10500Rs. 10900(Rs. 400 OFF)',\n",
       " 'Rs. 9499',\n",
       " 'Rs. 8249Rs. 10999(25% OFF)',\n",
       " 'Rs. 8499Rs. 9999(15% OFF)',\n",
       " 'Rs. 8490',\n",
       " 'Rs. 9500',\n",
       " 'Rs. 8579Rs. 10999(22% OFF)',\n",
       " 'Rs. 8499Rs. 9999(15% OFF)',\n",
       " 'Rs. 12999',\n",
       " 'Rs. 8900',\n",
       " 'Rs. 7739Rs. 8599(10% OFF)',\n",
       " 'Rs. 7599',\n",
       " 'Rs. 8990',\n",
       " 'Rs. 9099Rs. 12999(30% OFF)',\n",
       " 'Rs. 12990',\n",
       " 'Rs. 9990',\n",
       " 'Rs. 9499',\n",
       " 'Rs. 7999',\n",
       " 'Rs. 8399Rs. 11999(30% OFF)',\n",
       " 'Rs. 7999',\n",
       " 'Rs. 8490',\n",
       " 'Rs. 8399Rs. 11999(30% OFF)',\n",
       " 'Rs. 7990',\n",
       " 'Rs. 10625Rs. 12500(15% OFF)',\n",
       " 'Rs. 8990',\n",
       " 'Rs. 7990',\n",
       " 'Rs. 7900',\n",
       " 'Rs. 8999',\n",
       " 'Rs. 8900',\n",
       " 'Rs. 9500',\n",
       " 'Rs. 8499',\n",
       " 'Rs. 7990',\n",
       " 'Rs. 7990']"
      ]
     },
     "execution_count": 108,
     "metadata": {},
     "output_type": "execute_result"
    }
   ],
   "source": [
    "price=[]\n",
    "for i in range(0,3):\n",
    "    price_tag=driver.find_elements_by_xpath('//div[@class=\"product-price\"]')\n",
    "    price_tag[0:100]\n",
    "    for i in price_tag:\n",
    "        price.append(i.text)\n",
    "        next_btn=driver.find_element_by_xpath(\"/html/body/div[2]/div/div/main/div[3]/div[2]/div/div[2]/section/div[2]/ul/li[12]\")\n",
    "        next_btn\n",
    "price=price[0:100]\n",
    "price"
   ]
  },
  {
   "cell_type": "code",
   "execution_count": 109,
   "id": "edeea5e9",
   "metadata": {},
   "outputs": [
    {
     "name": "stdout",
     "output_type": "stream",
     "text": [
      "100 100 100\n"
     ]
    }
   ],
   "source": [
    "print(len(brand),len(product_des),len(price))"
   ]
  },
  {
   "cell_type": "code",
   "execution_count": 110,
   "id": "74b3fada",
   "metadata": {},
   "outputs": [
    {
     "data": {
      "text/html": [
       "<div>\n",
       "<style scoped>\n",
       "    .dataframe tbody tr th:only-of-type {\n",
       "        vertical-align: middle;\n",
       "    }\n",
       "\n",
       "    .dataframe tbody tr th {\n",
       "        vertical-align: top;\n",
       "    }\n",
       "\n",
       "    .dataframe thead th {\n",
       "        text-align: right;\n",
       "    }\n",
       "</style>\n",
       "<table border=\"1\" class=\"dataframe\">\n",
       "  <thead>\n",
       "    <tr style=\"text-align: right;\">\n",
       "      <th></th>\n",
       "      <th>Brand</th>\n",
       "      <th>Description</th>\n",
       "      <th>Price</th>\n",
       "    </tr>\n",
       "  </thead>\n",
       "  <tbody>\n",
       "    <tr>\n",
       "      <th>0</th>\n",
       "      <td>ALDO</td>\n",
       "      <td>Men Leather Driving Shoes</td>\n",
       "      <td>Rs. 12999</td>\n",
       "    </tr>\n",
       "    <tr>\n",
       "      <th>1</th>\n",
       "      <td>Reebok</td>\n",
       "      <td>Men Zig Dynamica 2.0 Running</td>\n",
       "      <td>Rs. 7999</td>\n",
       "    </tr>\n",
       "    <tr>\n",
       "      <th>2</th>\n",
       "      <td>Nike</td>\n",
       "      <td>Men Winflo 7 Running Shoes</td>\n",
       "      <td>Rs. 7995</td>\n",
       "    </tr>\n",
       "    <tr>\n",
       "      <th>3</th>\n",
       "      <td>ALDO</td>\n",
       "      <td>Men Printed Sneakers</td>\n",
       "      <td>Rs. 9099Rs. 12999(30% OFF)</td>\n",
       "    </tr>\n",
       "    <tr>\n",
       "      <th>4</th>\n",
       "      <td>Tommy Hilfiger</td>\n",
       "      <td>Men Cleated Leather Sneakers</td>\n",
       "      <td>Rs. 7739Rs. 8599(10% OFF)</td>\n",
       "    </tr>\n",
       "    <tr>\n",
       "      <th>...</th>\n",
       "      <td>...</td>\n",
       "      <td>...</td>\n",
       "      <td>...</td>\n",
       "    </tr>\n",
       "    <tr>\n",
       "      <th>95</th>\n",
       "      <td>Sole To Soul</td>\n",
       "      <td>High-Top Platform Heeled Boots</td>\n",
       "      <td>Rs. 8900</td>\n",
       "    </tr>\n",
       "    <tr>\n",
       "      <th>96</th>\n",
       "      <td>Sole To Soul</td>\n",
       "      <td>Suede High-Top Block Heeled Boots</td>\n",
       "      <td>Rs. 9500</td>\n",
       "    </tr>\n",
       "    <tr>\n",
       "      <th>97</th>\n",
       "      <td>ROSSO BRUNELLO</td>\n",
       "      <td>Printed PU Kitten Sandals</td>\n",
       "      <td>Rs. 8499</td>\n",
       "    </tr>\n",
       "    <tr>\n",
       "      <th>98</th>\n",
       "      <td>Heel &amp; Buckle London</td>\n",
       "      <td>Men Formal Leather Derby</td>\n",
       "      <td>Rs. 7990</td>\n",
       "    </tr>\n",
       "    <tr>\n",
       "      <th>99</th>\n",
       "      <td>DAVINCHI</td>\n",
       "      <td>Solid Slip On Shoes</td>\n",
       "      <td>Rs. 7990</td>\n",
       "    </tr>\n",
       "  </tbody>\n",
       "</table>\n",
       "<p>100 rows × 3 columns</p>\n",
       "</div>"
      ],
      "text/plain": [
       "                   Brand                        Description  \\\n",
       "0                   ALDO          Men Leather Driving Shoes   \n",
       "1                 Reebok       Men Zig Dynamica 2.0 Running   \n",
       "2                   Nike         Men Winflo 7 Running Shoes   \n",
       "3                   ALDO               Men Printed Sneakers   \n",
       "4         Tommy Hilfiger       Men Cleated Leather Sneakers   \n",
       "..                   ...                                ...   \n",
       "95          Sole To Soul     High-Top Platform Heeled Boots   \n",
       "96          Sole To Soul  Suede High-Top Block Heeled Boots   \n",
       "97        ROSSO BRUNELLO          Printed PU Kitten Sandals   \n",
       "98  Heel & Buckle London           Men Formal Leather Derby   \n",
       "99              DAVINCHI                Solid Slip On Shoes   \n",
       "\n",
       "                         Price  \n",
       "0                    Rs. 12999  \n",
       "1                     Rs. 7999  \n",
       "2                     Rs. 7995  \n",
       "3   Rs. 9099Rs. 12999(30% OFF)  \n",
       "4    Rs. 7739Rs. 8599(10% OFF)  \n",
       "..                         ...  \n",
       "95                    Rs. 8900  \n",
       "96                    Rs. 9500  \n",
       "97                    Rs. 8499  \n",
       "98                    Rs. 7990  \n",
       "99                    Rs. 7990  \n",
       "\n",
       "[100 rows x 3 columns]"
      ]
     },
     "execution_count": 110,
     "metadata": {},
     "output_type": "execute_result"
    }
   ],
   "source": [
    "shoes=pd.DataFrame()\n",
    "shoes[\"Brand\"]=brand\n",
    "shoes[\"Description\"]=product_des\n",
    "shoes[\"Price\"]=price\n",
    "shoes"
   ]
  },
  {
   "cell_type": "markdown",
   "id": "4c36b2c7",
   "metadata": {},
   "source": [
    "# Q.8)"
   ]
  },
  {
   "cell_type": "code",
   "execution_count": 111,
   "id": "83fc43d8",
   "metadata": {},
   "outputs": [],
   "source": [
    "driver = webdriver.Firefox(executable_path=r\"C:\\geckodriver.exe\")\n",
    "driver.implicitly_wait(2)\n",
    "driver.maximize_window()\n",
    "driver.get('https://www.amazon.in/s?k=laptop&crid=35N1FB82LTGDS&sprefix=laptop%2Caps%2C510&ref=nb_sb_noss_1')"
   ]
  },
  {
   "cell_type": "code",
   "execution_count": 116,
   "id": "dfd70dfb",
   "metadata": {},
   "outputs": [
    {
     "data": {
      "text/plain": [
       "<selenium.webdriver.remote.webelement.WebElement (session=\"50046dd6-3ffe-46e1-bcb8-8cd2cf5a6ce6\", element=\"9ce9aa34-0908-4cc3-ad14-cbd865b2f3ea\")>"
      ]
     },
     "execution_count": 116,
     "metadata": {},
     "output_type": "execute_result"
    }
   ],
   "source": [
    "CPU_filter=driver.find_element_by_xpath(\"/html/body/div[1]/div[2]/div[1]/div[2]/div/div[3]/span/div[1]/div/div/div[6]/ul[4]/li[10]/span/a/span\")\n",
    "CPU_filter\n",
    "\n"
   ]
  },
  {
   "cell_type": "code",
   "execution_count": 117,
   "id": "5ff87548",
   "metadata": {},
   "outputs": [],
   "source": [
    "CPU_filter.click()"
   ]
  },
  {
   "cell_type": "code",
   "execution_count": 118,
   "id": "d64b0ea3",
   "metadata": {},
   "outputs": [
    {
     "data": {
      "text/plain": [
       "['MSI Modern 14, Intel i7-1195G7, 14\" FHD IPS-Level 60Hz Panel Laptop (8GB/512GB NVMe SSD/Windows 10 Home/Nvidia MX450 2GB Graphics/Carbon Grey/1.3Kg), B11SBU-688IN',\n",
       " 'Dell G15 5511 Intel i7-11800H Gaming Laptop,16GB DDR4,512GB SSD, Win 11+MSO\\'21, NVIDIA RTX 3060 6GB GDDR6,15.6\" (39.62cm) FHD AG 300 nits 165Hz, Backlit KB RGB, Black (D560670WIN9B), 2.6kg',\n",
       " 'ASUS VivoBook 14 (2021), 14-inch (35.56 cms) FHD, Intel Core i7-1065G7 10th Gen, Thin and Light Laptop (16GB/512GB SSD/Integrated Graphics/Office 2021/Windows 11/Silver/1.6 Kg), X415JA-EK701WS',\n",
       " 'Mi Notebook Ultra 3.2K Resolution Display Intel Core i7-11370H 11th Gen 15.6-inch(39.62 cm) Thin and Light Laptop (16GB/512GB SSD/Iris Xe Graphic/Win 10/MS Office/Backlit KB/Fingerprint Sensor/1.7Kg)',\n",
       " 'ASUS TUF Gaming F15 (2021), 15.6\" (39.62 cms) FHD 144Hz, Intel Core i7-11600H 11th Gen, 4GB RTX 3050 Graphics, Gaming Laptop (16GB/512GB SSD/Windows 10/Office 2019/Gray/2.3 Kg), FX566HCB-HN299TS',\n",
       " 'LG Gram 14 Intel Evo 11th Gen Core i7 14 inches Ultralight Laptop (16 GB RAM, 512 GB SSD, Windows 10, Iris Xe Graphics Thunderbolt 4, USC -Cx2 (with Power), 0.999kg, 14Z90P, Black)',\n",
       " 'Lenovo ThinkBook 15 Intel 11th Gen Core i7 15.6\"(39.62 cm)FHD Thin and Light Laptop (16GB/512GB SSD/Windows 11 Home/MS Office H&S 2021/Iris® Xe Graphics/Backlit/Mineral Grey/1.7 Kg) 20VE00W4IH',\n",
       " 'Fujitsu UH-X 11th Gen Intel Core i7 13.3” FHD IPS 400Nits Thin & Light Laptop(16GB/512GB SSD/Windows 11/Office 2021/Iris Xe Graphics/Backlit Kb/Fingerprint Reader/2Yr Warranty/Black/878gms),4ZR1F38024',\n",
       " 'HP Pavilion x360 11th Gen Intel Core i7 14 inches FHD, IPS, Convertible Laptop (16 GB RAM/512GB SSD, B&O/Win 11 Home/Backlit keyboard/FPR/ Alexa-Built in/MS Office/Natural Silver/1.52 Kg) -14-dy1013TU',\n",
       " 'Fujitsu UH-X 11th Gen Intel Core i7 13.3\" FHD IPS 400Nits 2-in1 Touch Convertible Laptop (16GB/1TB SSD/Windows 11/MS Office 2021/Iris Xe Graphics/2 Yr Warranty/Backlit Kb/Black/0.997 kg, 4ZR1F38027)']"
      ]
     },
     "execution_count": 118,
     "metadata": {},
     "output_type": "execute_result"
    }
   ],
   "source": [
    "title_tag=driver.find_elements_by_xpath('//h2[@class=\"a-size-mini a-spacing-none a-color-base s-line-clamp-2\"]')\n",
    "title_tag[0:10]\n",
    "\n",
    "title=[]\n",
    "for i in title_tag:\n",
    "    title.append(i.text)\n",
    "title=title[0:10]\n",
    "title\n",
    "    "
   ]
  },
  {
   "cell_type": "code",
   "execution_count": 119,
   "id": "1f9488a8",
   "metadata": {},
   "outputs": [
    {
     "data": {
      "text/plain": [
       "['2', '23', '916', '3', '85', '32', '39', '77', '56', '2']"
      ]
     },
     "execution_count": 119,
     "metadata": {},
     "output_type": "execute_result"
    }
   ],
   "source": [
    "rating_tag=driver.find_elements_by_xpath('//span[@class=\"a-size-base s-underline-text\"]')\n",
    "rating_tag[0:10]\n",
    "\n",
    "rating=[]\n",
    "for i in rating_tag:\n",
    "    rating.append(i.text)\n",
    "rating=rating[0:10]\n",
    "rating\n",
    "    "
   ]
  },
  {
   "cell_type": "code",
   "execution_count": 120,
   "id": "2ddd6eff",
   "metadata": {},
   "outputs": [
    {
     "data": {
      "text/plain": [
       "['₹75,490',\n",
       " '₹1,25,510',\n",
       " '₹57,490',\n",
       " '₹77,499',\n",
       " '₹89,990',\n",
       " '₹88,990',\n",
       " '₹90,990',\n",
       " '₹83,990',\n",
       " '₹85,790',\n",
       " '₹1,06,490']"
      ]
     },
     "execution_count": 120,
     "metadata": {},
     "output_type": "execute_result"
    }
   ],
   "source": [
    "price_tag=driver.find_elements_by_xpath('//span[@class=\"a-price\"]')\n",
    "price_tag[0:10]\n",
    "\n",
    "price=[]\n",
    "for i in price_tag:\n",
    "    price.append(i.text)\n",
    "price=price[0:10]\n",
    "price\n",
    "    "
   ]
  },
  {
   "cell_type": "code",
   "execution_count": 121,
   "id": "0832fc6a",
   "metadata": {},
   "outputs": [
    {
     "name": "stdout",
     "output_type": "stream",
     "text": [
      "10 10 10\n"
     ]
    }
   ],
   "source": [
    "print(len(title),len(rating),len(price))"
   ]
  },
  {
   "cell_type": "code",
   "execution_count": 122,
   "id": "6615218f",
   "metadata": {},
   "outputs": [
    {
     "data": {
      "text/html": [
       "<div>\n",
       "<style scoped>\n",
       "    .dataframe tbody tr th:only-of-type {\n",
       "        vertical-align: middle;\n",
       "    }\n",
       "\n",
       "    .dataframe tbody tr th {\n",
       "        vertical-align: top;\n",
       "    }\n",
       "\n",
       "    .dataframe thead th {\n",
       "        text-align: right;\n",
       "    }\n",
       "</style>\n",
       "<table border=\"1\" class=\"dataframe\">\n",
       "  <thead>\n",
       "    <tr style=\"text-align: right;\">\n",
       "      <th></th>\n",
       "      <th>Rating</th>\n",
       "      <th>Title</th>\n",
       "      <th>Price</th>\n",
       "    </tr>\n",
       "  </thead>\n",
       "  <tbody>\n",
       "    <tr>\n",
       "      <th>0</th>\n",
       "      <td>2</td>\n",
       "      <td>MSI Modern 14, Intel i7-1195G7, 14\" FHD IPS-Le...</td>\n",
       "      <td>₹75,490</td>\n",
       "    </tr>\n",
       "    <tr>\n",
       "      <th>1</th>\n",
       "      <td>23</td>\n",
       "      <td>Dell G15 5511 Intel i7-11800H Gaming Laptop,16...</td>\n",
       "      <td>₹1,25,510</td>\n",
       "    </tr>\n",
       "    <tr>\n",
       "      <th>2</th>\n",
       "      <td>916</td>\n",
       "      <td>ASUS VivoBook 14 (2021), 14-inch (35.56 cms) F...</td>\n",
       "      <td>₹57,490</td>\n",
       "    </tr>\n",
       "    <tr>\n",
       "      <th>3</th>\n",
       "      <td>3</td>\n",
       "      <td>Mi Notebook Ultra 3.2K Resolution Display Inte...</td>\n",
       "      <td>₹77,499</td>\n",
       "    </tr>\n",
       "    <tr>\n",
       "      <th>4</th>\n",
       "      <td>85</td>\n",
       "      <td>ASUS TUF Gaming F15 (2021), 15.6\" (39.62 cms) ...</td>\n",
       "      <td>₹89,990</td>\n",
       "    </tr>\n",
       "    <tr>\n",
       "      <th>5</th>\n",
       "      <td>32</td>\n",
       "      <td>LG Gram 14 Intel Evo 11th Gen Core i7 14 inche...</td>\n",
       "      <td>₹88,990</td>\n",
       "    </tr>\n",
       "    <tr>\n",
       "      <th>6</th>\n",
       "      <td>39</td>\n",
       "      <td>Lenovo ThinkBook 15 Intel 11th Gen Core i7 15....</td>\n",
       "      <td>₹90,990</td>\n",
       "    </tr>\n",
       "    <tr>\n",
       "      <th>7</th>\n",
       "      <td>77</td>\n",
       "      <td>Fujitsu UH-X 11th Gen Intel Core i7 13.3” FHD ...</td>\n",
       "      <td>₹83,990</td>\n",
       "    </tr>\n",
       "    <tr>\n",
       "      <th>8</th>\n",
       "      <td>56</td>\n",
       "      <td>HP Pavilion x360 11th Gen Intel Core i7 14 inc...</td>\n",
       "      <td>₹85,790</td>\n",
       "    </tr>\n",
       "    <tr>\n",
       "      <th>9</th>\n",
       "      <td>2</td>\n",
       "      <td>Fujitsu UH-X 11th Gen Intel Core i7 13.3\" FHD ...</td>\n",
       "      <td>₹1,06,490</td>\n",
       "    </tr>\n",
       "  </tbody>\n",
       "</table>\n",
       "</div>"
      ],
      "text/plain": [
       "  Rating                                              Title      Price\n",
       "0      2  MSI Modern 14, Intel i7-1195G7, 14\" FHD IPS-Le...    ₹75,490\n",
       "1     23  Dell G15 5511 Intel i7-11800H Gaming Laptop,16...  ₹1,25,510\n",
       "2    916  ASUS VivoBook 14 (2021), 14-inch (35.56 cms) F...    ₹57,490\n",
       "3      3  Mi Notebook Ultra 3.2K Resolution Display Inte...    ₹77,499\n",
       "4     85  ASUS TUF Gaming F15 (2021), 15.6\" (39.62 cms) ...    ₹89,990\n",
       "5     32  LG Gram 14 Intel Evo 11th Gen Core i7 14 inche...    ₹88,990\n",
       "6     39  Lenovo ThinkBook 15 Intel 11th Gen Core i7 15....    ₹90,990\n",
       "7     77  Fujitsu UH-X 11th Gen Intel Core i7 13.3” FHD ...    ₹83,990\n",
       "8     56  HP Pavilion x360 11th Gen Intel Core i7 14 inc...    ₹85,790\n",
       "9      2  Fujitsu UH-X 11th Gen Intel Core i7 13.3\" FHD ...  ₹1,06,490"
      ]
     },
     "execution_count": 122,
     "metadata": {},
     "output_type": "execute_result"
    }
   ],
   "source": [
    "laptop=pd.DataFrame()\n",
    "laptop[\"Rating\"]=rating\n",
    "laptop[\"Title\"]=title\n",
    "laptop[\"Price\"]=price\n",
    "laptop"
   ]
  },
  {
   "cell_type": "markdown",
   "id": "b0a40c20",
   "metadata": {},
   "source": [
    "# Q.9)"
   ]
  },
  {
   "cell_type": "code",
   "execution_count": 143,
   "id": "77901f69",
   "metadata": {},
   "outputs": [],
   "source": [
    "driver = webdriver.Firefox(executable_path=r\"C:\\geckodriver.exe\")\n",
    "driver.implicitly_wait(2)\n",
    "driver.maximize_window()\n",
    "driver.get('https://www.ambitionbox.com')"
   ]
  },
  {
   "cell_type": "code",
   "execution_count": 144,
   "id": "dec69bd4",
   "metadata": {},
   "outputs": [
    {
     "data": {
      "text/plain": [
       "<selenium.webdriver.remote.webelement.WebElement (session=\"2031902c-3124-4acc-84d8-b647a484647b\", element=\"71f2fae2-05ac-4418-84cd-7fd1f2c4ef60\")>"
      ]
     },
     "execution_count": 144,
     "metadata": {},
     "output_type": "execute_result"
    }
   ],
   "source": [
    "job_option=driver.find_element_by_xpath(\"/html/body/div[1]/nav/nav/a[6]\")\n",
    "job_option"
   ]
  },
  {
   "cell_type": "code",
   "execution_count": 145,
   "id": "3fa27eee",
   "metadata": {},
   "outputs": [],
   "source": [
    "job_option.click()"
   ]
  },
  {
   "cell_type": "code",
   "execution_count": 146,
   "id": "1e627006",
   "metadata": {},
   "outputs": [
    {
     "data": {
      "text/plain": [
       "<selenium.webdriver.remote.webelement.WebElement (session=\"2031902c-3124-4acc-84d8-b647a484647b\", element=\"d57efd9f-c675-4142-903b-93aa24658153\")>"
      ]
     },
     "execution_count": 146,
     "metadata": {},
     "output_type": "execute_result"
    }
   ],
   "source": [
    "search_job=driver.find_element_by_xpath(\"/html/body/div/div/div/div[2]/div[1]/div/div/div/div/span/input\")\n",
    "search_job"
   ]
  },
  {
   "cell_type": "code",
   "execution_count": 147,
   "id": "506eece8",
   "metadata": {},
   "outputs": [],
   "source": [
    "search_job.send_keys(\"Data Scientist\")"
   ]
  },
  {
   "cell_type": "code",
   "execution_count": 148,
   "id": "2e960ceb",
   "metadata": {},
   "outputs": [
    {
     "data": {
      "text/plain": [
       "<selenium.webdriver.remote.webelement.WebElement (session=\"2031902c-3124-4acc-84d8-b647a484647b\", element=\"72ff5b0c-b195-40d8-9839-d3c143ac87c6\")>"
      ]
     },
     "execution_count": 148,
     "metadata": {},
     "output_type": "execute_result"
    }
   ],
   "source": [
    "search_btn=driver.find_element_by_xpath(\"/html/body/div/div/div/div[2]/div[1]/div/div/div/button\")\n",
    "search_btn"
   ]
  },
  {
   "cell_type": "code",
   "execution_count": 149,
   "id": "be460413",
   "metadata": {},
   "outputs": [],
   "source": [
    "search_btn.click()"
   ]
  },
  {
   "cell_type": "code",
   "execution_count": 150,
   "id": "4aa9b30d",
   "metadata": {},
   "outputs": [
    {
     "data": {
      "text/plain": [
       "<selenium.webdriver.remote.webelement.WebElement (session=\"2031902c-3124-4acc-84d8-b647a484647b\", element=\"c670645a-ff7f-4a2c-8f31-ebb91c2ff9ee\")>"
      ]
     },
     "execution_count": 150,
     "metadata": {},
     "output_type": "execute_result"
    }
   ],
   "source": [
    "loc=driver.find_element_by_xpath(\"/html/body/div/div/div/div[2]/div[2]/div[1]/div/div/div/div[2]/div[1]/i\")\n",
    "loc"
   ]
  },
  {
   "cell_type": "code",
   "execution_count": 151,
   "id": "aa3cb585",
   "metadata": {},
   "outputs": [],
   "source": [
    "loc.click()"
   ]
  },
  {
   "cell_type": "code",
   "execution_count": 152,
   "id": "6c76c5cf",
   "metadata": {},
   "outputs": [
    {
     "data": {
      "text/plain": [
       "<selenium.webdriver.remote.webelement.WebElement (session=\"2031902c-3124-4acc-84d8-b647a484647b\", element=\"4f23e623-4fe6-480e-b5b8-363445151ecf\")>"
      ]
     },
     "execution_count": 152,
     "metadata": {},
     "output_type": "execute_result"
    }
   ],
   "source": [
    "search_loc=driver.find_element_by_xpath(\"/html/body/div/div/div/div[2]/div[2]/div[1]/div/div/div/div[2]/div[2]/div/div[2]/input\")\n",
    "search_loc"
   ]
  },
  {
   "cell_type": "code",
   "execution_count": 153,
   "id": "8ad9d485",
   "metadata": {},
   "outputs": [],
   "source": [
    "search_loc.send_keys(\"Noida\")"
   ]
  },
  {
   "cell_type": "code",
   "execution_count": 154,
   "id": "e83e281f",
   "metadata": {},
   "outputs": [],
   "source": [
    "select_loc=driver.find_element_by_xpath(\"/html/body/div/div/div/div[2]/div[2]/div[1]/div/div/div/div[2]/div[2]/div/div[3]/div[1]/div[1]/div/label\")"
   ]
  },
  {
   "cell_type": "code",
   "execution_count": 155,
   "id": "291d7f02",
   "metadata": {},
   "outputs": [],
   "source": [
    "select_loc.click()"
   ]
  },
  {
   "cell_type": "code",
   "execution_count": 158,
   "id": "948ce14a",
   "metadata": {},
   "outputs": [
    {
     "data": {
      "text/plain": [
       "['NTT DATA GLOBAL DELIVERY SERVICES PRIVATE LIMITED',\n",
       " 'HCL Technologies Limited',\n",
       " 'WSP CONSULTANTS INDIA PRIVATE LIMITED',\n",
       " 'Microsoft India (R and D) Pvt Ltd',\n",
       " 'HCL Technologies Ltd',\n",
       " 'Jubilant Foodworks Limited',\n",
       " 'HCL Technologies',\n",
       " 'RATEGAIN TRAVEL TECHNOLOGIES LIMITED',\n",
       " 'Hanu Software Solutions Pvt Ltd',\n",
       " 'Tavant Technologies India Pvt. Ltd.']"
      ]
     },
     "execution_count": 158,
     "metadata": {},
     "output_type": "execute_result"
    }
   ],
   "source": [
    "company_tag=driver.find_elements_by_xpath('//p[@class=\"company body-medium\"]')\n",
    "company_tag[0:10]\n",
    "\n",
    "company=[]\n",
    "for i in company_tag:\n",
    "    company.append(i.text)\n",
    "company=company[0:10]\n",
    "company\n",
    "    "
   ]
  },
  {
   "cell_type": "code",
   "execution_count": 164,
   "id": "ea52378f",
   "metadata": {},
   "outputs": [
    {
     "data": {
      "text/plain": [
       "['11d ago',\n",
       " 'via naukri.com',\n",
       " '12d ago',\n",
       " 'via naukri.com',\n",
       " '13d ago',\n",
       " 'via naukri.com',\n",
       " '23d ago',\n",
       " 'via naukri.com',\n",
       " '21d ago',\n",
       " 'via naukri.com']"
      ]
     },
     "execution_count": 164,
     "metadata": {},
     "output_type": "execute_result"
    }
   ],
   "source": [
    "postdate_tag=driver.find_elements_by_xpath('//span[@class=\"body-small-l\"]')\n",
    "postdate_tag[0:10]\n",
    "\n",
    "postdate=[]\n",
    "for i in postdate_tag:\n",
    "    postdate.append(i.text)\n",
    "postdate=postdate[0:10]\n",
    "postdate\n",
    "\n",
    "    "
   ]
  },
  {
   "cell_type": "code",
   "execution_count": 165,
   "id": "0a08d2c9",
   "metadata": {},
   "outputs": [
    {
     "data": {
      "text/plain": [
       "['3.9', '3.8', '4.2', '4.2', '3.8', '3.9', '3.8', '3.7', '3.7', '4.0']"
      ]
     },
     "execution_count": 165,
     "metadata": {},
     "output_type": "execute_result"
    }
   ],
   "source": [
    "rating_tag=driver.find_elements_by_xpath('//span[@class=\"body-small\"]')\n",
    "rating_tag[0:10]\n",
    "\n",
    "rating=[]\n",
    "for i in rating_tag:\n",
    "    rating.append(i.text)\n",
    "rating=rating[0:10]\n",
    "rating\n",
    "    "
   ]
  },
  {
   "cell_type": "code",
   "execution_count": 167,
   "id": "026e17fd",
   "metadata": {},
   "outputs": [
    {
     "name": "stdout",
     "output_type": "stream",
     "text": [
      "10 10 10\n"
     ]
    }
   ],
   "source": [
    "print(len(company),len(postdate),len(rating))"
   ]
  },
  {
   "cell_type": "code",
   "execution_count": 168,
   "id": "1497e849",
   "metadata": {},
   "outputs": [
    {
     "data": {
      "text/html": [
       "<div>\n",
       "<style scoped>\n",
       "    .dataframe tbody tr th:only-of-type {\n",
       "        vertical-align: middle;\n",
       "    }\n",
       "\n",
       "    .dataframe tbody tr th {\n",
       "        vertical-align: top;\n",
       "    }\n",
       "\n",
       "    .dataframe thead th {\n",
       "        text-align: right;\n",
       "    }\n",
       "</style>\n",
       "<table border=\"1\" class=\"dataframe\">\n",
       "  <thead>\n",
       "    <tr style=\"text-align: right;\">\n",
       "      <th></th>\n",
       "      <th>Company</th>\n",
       "      <th>Postdate</th>\n",
       "      <th>Rating</th>\n",
       "    </tr>\n",
       "  </thead>\n",
       "  <tbody>\n",
       "    <tr>\n",
       "      <th>0</th>\n",
       "      <td>NTT DATA GLOBAL DELIVERY SERVICES PRIVATE LIMITED</td>\n",
       "      <td>11d ago</td>\n",
       "      <td>3.9</td>\n",
       "    </tr>\n",
       "    <tr>\n",
       "      <th>1</th>\n",
       "      <td>HCL Technologies Limited</td>\n",
       "      <td>via naukri.com</td>\n",
       "      <td>3.8</td>\n",
       "    </tr>\n",
       "    <tr>\n",
       "      <th>2</th>\n",
       "      <td>WSP CONSULTANTS INDIA PRIVATE LIMITED</td>\n",
       "      <td>12d ago</td>\n",
       "      <td>4.2</td>\n",
       "    </tr>\n",
       "    <tr>\n",
       "      <th>3</th>\n",
       "      <td>Microsoft India (R and D) Pvt Ltd</td>\n",
       "      <td>via naukri.com</td>\n",
       "      <td>4.2</td>\n",
       "    </tr>\n",
       "    <tr>\n",
       "      <th>4</th>\n",
       "      <td>HCL Technologies Ltd</td>\n",
       "      <td>13d ago</td>\n",
       "      <td>3.8</td>\n",
       "    </tr>\n",
       "    <tr>\n",
       "      <th>5</th>\n",
       "      <td>Jubilant Foodworks Limited</td>\n",
       "      <td>via naukri.com</td>\n",
       "      <td>3.9</td>\n",
       "    </tr>\n",
       "    <tr>\n",
       "      <th>6</th>\n",
       "      <td>HCL Technologies</td>\n",
       "      <td>23d ago</td>\n",
       "      <td>3.8</td>\n",
       "    </tr>\n",
       "    <tr>\n",
       "      <th>7</th>\n",
       "      <td>RATEGAIN TRAVEL TECHNOLOGIES LIMITED</td>\n",
       "      <td>via naukri.com</td>\n",
       "      <td>3.7</td>\n",
       "    </tr>\n",
       "    <tr>\n",
       "      <th>8</th>\n",
       "      <td>Hanu Software Solutions Pvt Ltd</td>\n",
       "      <td>21d ago</td>\n",
       "      <td>3.7</td>\n",
       "    </tr>\n",
       "    <tr>\n",
       "      <th>9</th>\n",
       "      <td>Tavant Technologies India Pvt. Ltd.</td>\n",
       "      <td>via naukri.com</td>\n",
       "      <td>4.0</td>\n",
       "    </tr>\n",
       "  </tbody>\n",
       "</table>\n",
       "</div>"
      ],
      "text/plain": [
       "                                             Company        Postdate Rating\n",
       "0  NTT DATA GLOBAL DELIVERY SERVICES PRIVATE LIMITED         11d ago    3.9\n",
       "1                           HCL Technologies Limited  via naukri.com    3.8\n",
       "2              WSP CONSULTANTS INDIA PRIVATE LIMITED         12d ago    4.2\n",
       "3                  Microsoft India (R and D) Pvt Ltd  via naukri.com    4.2\n",
       "4                               HCL Technologies Ltd         13d ago    3.8\n",
       "5                         Jubilant Foodworks Limited  via naukri.com    3.9\n",
       "6                                   HCL Technologies         23d ago    3.8\n",
       "7               RATEGAIN TRAVEL TECHNOLOGIES LIMITED  via naukri.com    3.7\n",
       "8                    Hanu Software Solutions Pvt Ltd         21d ago    3.7\n",
       "9                Tavant Technologies India Pvt. Ltd.  via naukri.com    4.0"
      ]
     },
     "execution_count": 168,
     "metadata": {},
     "output_type": "execute_result"
    }
   ],
   "source": [
    "com=pd.DataFrame()\n",
    "com[\"Company\"]=company\n",
    "com[\"Postdate\"]=postdate\n",
    "com[\"Rating\"]=rating\n",
    "com"
   ]
  },
  {
   "cell_type": "markdown",
   "id": "73f5b046",
   "metadata": {},
   "source": [
    "# Q.10)"
   ]
  },
  {
   "cell_type": "code",
   "execution_count": 169,
   "id": "80faac1d",
   "metadata": {},
   "outputs": [],
   "source": [
    "driver = webdriver.Firefox(executable_path=r\"C:\\geckodriver.exe\")\n",
    "driver.implicitly_wait(2)\n",
    "driver.maximize_window()\n",
    "driver.get('https://www.ambitionbox.com')"
   ]
  },
  {
   "cell_type": "code",
   "execution_count": 170,
   "id": "e9250239",
   "metadata": {},
   "outputs": [
    {
     "data": {
      "text/plain": [
       "<selenium.webdriver.remote.webelement.WebElement (session=\"46ae16f0-0a03-4543-8f1a-4520bfd474ad\", element=\"f414bcd3-e001-403b-be94-309fbffb5a14\")>"
      ]
     },
     "execution_count": 170,
     "metadata": {},
     "output_type": "execute_result"
    }
   ],
   "source": [
    "salary_option=driver.find_element_by_xpath(\"/html/body/div[1]/nav/nav/a[4]\")\n",
    "salary_option"
   ]
  },
  {
   "cell_type": "code",
   "execution_count": 171,
   "id": "ac219f13",
   "metadata": {},
   "outputs": [],
   "source": [
    "salary_option.click()"
   ]
  },
  {
   "cell_type": "code",
   "execution_count": 172,
   "id": "81bbabc0",
   "metadata": {},
   "outputs": [
    {
     "data": {
      "text/plain": [
       "<selenium.webdriver.remote.webelement.WebElement (session=\"46ae16f0-0a03-4543-8f1a-4520bfd474ad\", element=\"fbdfc05e-e906-4e54-a785-b75f1709131b\")>"
      ]
     },
     "execution_count": 172,
     "metadata": {},
     "output_type": "execute_result"
    }
   ],
   "source": [
    "search_job=driver.find_element_by_xpath('//input[@class=\"tt-input\"]')\n",
    "search_job"
   ]
  },
  {
   "cell_type": "code",
   "execution_count": 173,
   "id": "3a46fd08",
   "metadata": {},
   "outputs": [],
   "source": [
    "search_job.send_keys(\"Data Scientist\")"
   ]
  },
  {
   "cell_type": "code",
   "execution_count": 175,
   "id": "06d45a71",
   "metadata": {},
   "outputs": [
    {
     "data": {
      "text/plain": [
       "<selenium.webdriver.remote.webelement.WebElement (session=\"46ae16f0-0a03-4543-8f1a-4520bfd474ad\", element=\"5ae44e53-6b35-4de5-bf50-588d4bf6161d\")>"
      ]
     },
     "execution_count": 175,
     "metadata": {},
     "output_type": "execute_result"
    }
   ],
   "source": [
    "select=driver.find_element_by_xpath(\"/html/body/div/div/div/main/section[1]/div[2]/div[1]/span/div/div/div[1]/div\")\n",
    "select"
   ]
  },
  {
   "cell_type": "code",
   "execution_count": 176,
   "id": "0b759cc8",
   "metadata": {},
   "outputs": [],
   "source": [
    "select.click()"
   ]
  },
  {
   "cell_type": "code",
   "execution_count": 190,
   "id": "82266c86",
   "metadata": {},
   "outputs": [
    {
     "data": {
      "text/plain": [
       "['Ab Inbev\\nbased on 28 salaries',\n",
       " 'ZS\\nbased on 15 salaries',\n",
       " 'Optum\\nbased on 25 salaries',\n",
       " 'Fractal Analytics\\nbased on 77 salaries',\n",
       " 'Tiger Analytics\\nbased on 33 salaries',\n",
       " 'UnitedHealth\\nbased on 52 salaries',\n",
       " 'Verizon\\nbased on 14 salaries',\n",
       " 'Ganit Business Solutions\\nbased on 13 salaries',\n",
       " 'Ericsson\\nbased on 43 salaries',\n",
       " 'Deloitte\\nbased on 57 salaries']"
      ]
     },
     "execution_count": 190,
     "metadata": {},
     "output_type": "execute_result"
    }
   ],
   "source": [
    "company_tag=driver.find_elements_by_xpath('//div[@class=\"name\"]')\n",
    "company_tag[0:10]\n",
    "\n",
    "company=[]\n",
    "for i in company_tag:\n",
    "    company.append(i.text)\n",
    "company=company[0:10]\n",
    "company\n",
    "    "
   ]
  },
  {
   "cell_type": "code",
   "execution_count": null,
   "id": "10114a23",
   "metadata": {},
   "outputs": [],
   "source": []
  },
  {
   "cell_type": "code",
   "execution_count": null,
   "id": "d5df9927",
   "metadata": {},
   "outputs": [],
   "source": []
  },
  {
   "cell_type": "code",
   "execution_count": null,
   "id": "ae4170e4",
   "metadata": {},
   "outputs": [],
   "source": []
  },
  {
   "cell_type": "code",
   "execution_count": null,
   "id": "1a2af627",
   "metadata": {},
   "outputs": [],
   "source": []
  },
  {
   "cell_type": "code",
   "execution_count": null,
   "id": "4fe539d0",
   "metadata": {},
   "outputs": [],
   "source": []
  },
  {
   "cell_type": "code",
   "execution_count": null,
   "id": "7a7a3e4e",
   "metadata": {},
   "outputs": [],
   "source": []
  },
  {
   "cell_type": "code",
   "execution_count": null,
   "id": "537cd55a",
   "metadata": {},
   "outputs": [],
   "source": []
  }
 ],
 "metadata": {
  "kernelspec": {
   "display_name": "Python 3",
   "language": "python",
   "name": "python3"
  },
  "language_info": {
   "codemirror_mode": {
    "name": "ipython",
    "version": 3
   },
   "file_extension": ".py",
   "mimetype": "text/x-python",
   "name": "python",
   "nbconvert_exporter": "python",
   "pygments_lexer": "ipython3",
   "version": "3.8.8"
  }
 },
 "nbformat": 4,
 "nbformat_minor": 5
}
